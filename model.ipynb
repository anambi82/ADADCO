{
 "cells": [
  {
   "cell_type": "code",
   "execution_count": 1,
   "id": "494515d9",
   "metadata": {},
   "outputs": [
    {
     "name": "stdout",
     "output_type": "stream",
     "text": [
      "PyTorch: 2.8.0\n",
      "Data dir: /Users/nitishmalluru/HW/CSCE_482/datasets\n"
     ]
    }
   ],
   "source": [
    "# Setup: imports and paths\n",
    "import os\n",
    "import glob\n",
    "import pandas as pd\n",
    "import numpy as np\n",
    "import matplotlib.pyplot as plt\n",
    "import seaborn as sns\n",
    "import torch\n",
    "\n",
    "pd.set_option('display.max_columns', 120)\n",
    "sns.set_theme(style='whitegrid')\n",
    "\n",
    "DATA_DIR = os.path.join(os.getcwd(), 'datasets')\n",
    "assert os.path.isdir(DATA_DIR), f\"Missing datasets dir: {DATA_DIR}\"\n",
    "print('PyTorch:', torch.__version__)\n",
    "print('Data dir:', DATA_DIR)\n"
   ]
  },
  {
   "cell_type": "code",
   "execution_count": 2,
   "id": "25116a6c",
   "metadata": {},
   "outputs": [
    {
     "data": {
      "text/plain": [
       "<torch._C.Generator at 0x14f342830>"
      ]
     },
     "execution_count": 2,
     "metadata": {},
     "output_type": "execute_result"
    }
   ],
   "source": [
    "# Config\n",
    "LABEL_COL = 'Label'            # set the label column explicitly\n",
    "NROWS_PER_CSV = 100_000        # sample per CSV for speed\n",
    "BATCH_SIZE = 512               # larger batches for MPS\n",
    "EPOCHS = 3                     # training epochs\n",
    "LOG_INTERVAL = 50              # batches between logs\n",
    "MAX_BATCHES = None             # cap batches per epoch (None means all)\n",
    "SEED = 42\n",
    "\n",
    "import random\n",
    "random.seed(SEED)\n",
    "np.random.seed(SEED)\n",
    "torch.manual_seed(SEED)\n"
   ]
  },
  {
   "cell_type": "code",
   "execution_count": 3,
   "id": "5ecaeb89",
   "metadata": {},
   "outputs": [
    {
     "name": "stdout",
     "output_type": "stream",
     "text": [
      "Found CSVs: 8\n",
      "Loaded Friday-WorkingHours-Afternoon-DDos.pcap_ISCX.csv (100000, 80)\n",
      "Loaded Friday-WorkingHours-Afternoon-PortScan.pcap_ISCX.csv (100000, 80)\n",
      "Loaded Friday-WorkingHours-Morning.pcap_ISCX.csv (100000, 80)\n",
      "Loaded Monday-WorkingHours.pcap_ISCX.csv (100000, 80)\n",
      "Loaded Thursday-WorkingHours-Afternoon-Infilteration.pcap_ISCX.csv (100000, 80)\n",
      "Loaded Thursday-WorkingHours-Morning-WebAttacks.pcap_ISCX.csv (100000, 80)\n",
      "Loaded Tuesday-WorkingHours.pcap_ISCX.csv (100000, 80)\n",
      "Loaded Wednesday-workingHours.pcap_ISCX.csv (100000, 80)\n",
      "Combined shape: (800000, 80)\n"
     ]
    },
    {
     "data": {
      "text/html": [
       "<div>\n",
       "<style scoped>\n",
       "    .dataframe tbody tr th:only-of-type {\n",
       "        vertical-align: middle;\n",
       "    }\n",
       "\n",
       "    .dataframe tbody tr th {\n",
       "        vertical-align: top;\n",
       "    }\n",
       "\n",
       "    .dataframe thead th {\n",
       "        text-align: right;\n",
       "    }\n",
       "</style>\n",
       "<table border=\"1\" class=\"dataframe\">\n",
       "  <thead>\n",
       "    <tr style=\"text-align: right;\">\n",
       "      <th></th>\n",
       "      <th>Destination Port</th>\n",
       "      <th>Flow Duration</th>\n",
       "      <th>Total Fwd Packets</th>\n",
       "      <th>Total Backward Packets</th>\n",
       "      <th>Total Length of Fwd Packets</th>\n",
       "      <th>Total Length of Bwd Packets</th>\n",
       "      <th>Fwd Packet Length Max</th>\n",
       "      <th>Fwd Packet Length Min</th>\n",
       "      <th>Fwd Packet Length Mean</th>\n",
       "      <th>Fwd Packet Length Std</th>\n",
       "      <th>Bwd Packet Length Max</th>\n",
       "      <th>Bwd Packet Length Min</th>\n",
       "      <th>Bwd Packet Length Mean</th>\n",
       "      <th>Bwd Packet Length Std</th>\n",
       "      <th>Flow Bytes/s</th>\n",
       "      <th>Flow Packets/s</th>\n",
       "      <th>Flow IAT Mean</th>\n",
       "      <th>Flow IAT Std</th>\n",
       "      <th>Flow IAT Max</th>\n",
       "      <th>Flow IAT Min</th>\n",
       "      <th>Fwd IAT Total</th>\n",
       "      <th>Fwd IAT Mean</th>\n",
       "      <th>Fwd IAT Std</th>\n",
       "      <th>Fwd IAT Max</th>\n",
       "      <th>Fwd IAT Min</th>\n",
       "      <th>Bwd IAT Total</th>\n",
       "      <th>Bwd IAT Mean</th>\n",
       "      <th>Bwd IAT Std</th>\n",
       "      <th>Bwd IAT Max</th>\n",
       "      <th>Bwd IAT Min</th>\n",
       "      <th>Fwd PSH Flags</th>\n",
       "      <th>Bwd PSH Flags</th>\n",
       "      <th>Fwd URG Flags</th>\n",
       "      <th>Bwd URG Flags</th>\n",
       "      <th>Fwd Header Length</th>\n",
       "      <th>Bwd Header Length</th>\n",
       "      <th>Fwd Packets/s</th>\n",
       "      <th>Bwd Packets/s</th>\n",
       "      <th>Min Packet Length</th>\n",
       "      <th>Max Packet Length</th>\n",
       "      <th>Packet Length Mean</th>\n",
       "      <th>Packet Length Std</th>\n",
       "      <th>Packet Length Variance</th>\n",
       "      <th>FIN Flag Count</th>\n",
       "      <th>SYN Flag Count</th>\n",
       "      <th>RST Flag Count</th>\n",
       "      <th>PSH Flag Count</th>\n",
       "      <th>ACK Flag Count</th>\n",
       "      <th>URG Flag Count</th>\n",
       "      <th>CWE Flag Count</th>\n",
       "      <th>ECE Flag Count</th>\n",
       "      <th>Down/Up Ratio</th>\n",
       "      <th>Average Packet Size</th>\n",
       "      <th>Avg Fwd Segment Size</th>\n",
       "      <th>Avg Bwd Segment Size</th>\n",
       "      <th>Fwd Header Length.1</th>\n",
       "      <th>Fwd Avg Bytes/Bulk</th>\n",
       "      <th>Fwd Avg Packets/Bulk</th>\n",
       "      <th>Fwd Avg Bulk Rate</th>\n",
       "      <th>Bwd Avg Bytes/Bulk</th>\n",
       "      <th>Bwd Avg Packets/Bulk</th>\n",
       "      <th>Bwd Avg Bulk Rate</th>\n",
       "      <th>Subflow Fwd Packets</th>\n",
       "      <th>Subflow Fwd Bytes</th>\n",
       "      <th>Subflow Bwd Packets</th>\n",
       "      <th>Subflow Bwd Bytes</th>\n",
       "      <th>Init_Win_bytes_forward</th>\n",
       "      <th>Init_Win_bytes_backward</th>\n",
       "      <th>act_data_pkt_fwd</th>\n",
       "      <th>min_seg_size_forward</th>\n",
       "      <th>Active Mean</th>\n",
       "      <th>Active Std</th>\n",
       "      <th>Active Max</th>\n",
       "      <th>Active Min</th>\n",
       "      <th>Idle Mean</th>\n",
       "      <th>Idle Std</th>\n",
       "      <th>Idle Max</th>\n",
       "      <th>Idle Min</th>\n",
       "      <th>Label</th>\n",
       "      <th>__source__</th>\n",
       "    </tr>\n",
       "  </thead>\n",
       "  <tbody>\n",
       "    <tr>\n",
       "      <th>0</th>\n",
       "      <td>54865</td>\n",
       "      <td>3</td>\n",
       "      <td>2</td>\n",
       "      <td>0</td>\n",
       "      <td>12</td>\n",
       "      <td>0</td>\n",
       "      <td>6</td>\n",
       "      <td>6</td>\n",
       "      <td>6.0</td>\n",
       "      <td>0.0</td>\n",
       "      <td>0</td>\n",
       "      <td>0</td>\n",
       "      <td>0.0</td>\n",
       "      <td>0.0</td>\n",
       "      <td>4.000000e+06</td>\n",
       "      <td>666666.66670</td>\n",
       "      <td>3.0</td>\n",
       "      <td>0.0</td>\n",
       "      <td>3</td>\n",
       "      <td>3</td>\n",
       "      <td>3</td>\n",
       "      <td>3.0</td>\n",
       "      <td>0.0</td>\n",
       "      <td>3</td>\n",
       "      <td>3</td>\n",
       "      <td>0</td>\n",
       "      <td>0.0</td>\n",
       "      <td>0.0</td>\n",
       "      <td>0</td>\n",
       "      <td>0</td>\n",
       "      <td>0</td>\n",
       "      <td>0</td>\n",
       "      <td>0</td>\n",
       "      <td>0</td>\n",
       "      <td>40</td>\n",
       "      <td>0</td>\n",
       "      <td>666666.666700</td>\n",
       "      <td>0.000000</td>\n",
       "      <td>6</td>\n",
       "      <td>6</td>\n",
       "      <td>6.0</td>\n",
       "      <td>0.0</td>\n",
       "      <td>0.0</td>\n",
       "      <td>0</td>\n",
       "      <td>0</td>\n",
       "      <td>0</td>\n",
       "      <td>0</td>\n",
       "      <td>1</td>\n",
       "      <td>0</td>\n",
       "      <td>0</td>\n",
       "      <td>0</td>\n",
       "      <td>0</td>\n",
       "      <td>9.0</td>\n",
       "      <td>6.0</td>\n",
       "      <td>0.0</td>\n",
       "      <td>40</td>\n",
       "      <td>0</td>\n",
       "      <td>0</td>\n",
       "      <td>0</td>\n",
       "      <td>0</td>\n",
       "      <td>0</td>\n",
       "      <td>0</td>\n",
       "      <td>2</td>\n",
       "      <td>12</td>\n",
       "      <td>0</td>\n",
       "      <td>0</td>\n",
       "      <td>33</td>\n",
       "      <td>-1</td>\n",
       "      <td>1</td>\n",
       "      <td>20</td>\n",
       "      <td>0.0</td>\n",
       "      <td>0.0</td>\n",
       "      <td>0</td>\n",
       "      <td>0</td>\n",
       "      <td>0.0</td>\n",
       "      <td>0.0</td>\n",
       "      <td>0</td>\n",
       "      <td>0</td>\n",
       "      <td>BENIGN</td>\n",
       "      <td>Friday-WorkingHours-Afternoon-DDos.pcap_ISCX.csv</td>\n",
       "    </tr>\n",
       "    <tr>\n",
       "      <th>1</th>\n",
       "      <td>55054</td>\n",
       "      <td>109</td>\n",
       "      <td>1</td>\n",
       "      <td>1</td>\n",
       "      <td>6</td>\n",
       "      <td>6</td>\n",
       "      <td>6</td>\n",
       "      <td>6</td>\n",
       "      <td>6.0</td>\n",
       "      <td>0.0</td>\n",
       "      <td>6</td>\n",
       "      <td>6</td>\n",
       "      <td>6.0</td>\n",
       "      <td>0.0</td>\n",
       "      <td>1.100917e+05</td>\n",
       "      <td>18348.62385</td>\n",
       "      <td>109.0</td>\n",
       "      <td>0.0</td>\n",
       "      <td>109</td>\n",
       "      <td>109</td>\n",
       "      <td>0</td>\n",
       "      <td>0.0</td>\n",
       "      <td>0.0</td>\n",
       "      <td>0</td>\n",
       "      <td>0</td>\n",
       "      <td>0</td>\n",
       "      <td>0.0</td>\n",
       "      <td>0.0</td>\n",
       "      <td>0</td>\n",
       "      <td>0</td>\n",
       "      <td>0</td>\n",
       "      <td>0</td>\n",
       "      <td>0</td>\n",
       "      <td>0</td>\n",
       "      <td>20</td>\n",
       "      <td>20</td>\n",
       "      <td>9174.311927</td>\n",
       "      <td>9174.311927</td>\n",
       "      <td>6</td>\n",
       "      <td>6</td>\n",
       "      <td>6.0</td>\n",
       "      <td>0.0</td>\n",
       "      <td>0.0</td>\n",
       "      <td>0</td>\n",
       "      <td>0</td>\n",
       "      <td>0</td>\n",
       "      <td>0</td>\n",
       "      <td>1</td>\n",
       "      <td>1</td>\n",
       "      <td>0</td>\n",
       "      <td>0</td>\n",
       "      <td>1</td>\n",
       "      <td>9.0</td>\n",
       "      <td>6.0</td>\n",
       "      <td>6.0</td>\n",
       "      <td>20</td>\n",
       "      <td>0</td>\n",
       "      <td>0</td>\n",
       "      <td>0</td>\n",
       "      <td>0</td>\n",
       "      <td>0</td>\n",
       "      <td>0</td>\n",
       "      <td>1</td>\n",
       "      <td>6</td>\n",
       "      <td>1</td>\n",
       "      <td>6</td>\n",
       "      <td>29</td>\n",
       "      <td>256</td>\n",
       "      <td>0</td>\n",
       "      <td>20</td>\n",
       "      <td>0.0</td>\n",
       "      <td>0.0</td>\n",
       "      <td>0</td>\n",
       "      <td>0</td>\n",
       "      <td>0.0</td>\n",
       "      <td>0.0</td>\n",
       "      <td>0</td>\n",
       "      <td>0</td>\n",
       "      <td>BENIGN</td>\n",
       "      <td>Friday-WorkingHours-Afternoon-DDos.pcap_ISCX.csv</td>\n",
       "    </tr>\n",
       "    <tr>\n",
       "      <th>2</th>\n",
       "      <td>55055</td>\n",
       "      <td>52</td>\n",
       "      <td>1</td>\n",
       "      <td>1</td>\n",
       "      <td>6</td>\n",
       "      <td>6</td>\n",
       "      <td>6</td>\n",
       "      <td>6</td>\n",
       "      <td>6.0</td>\n",
       "      <td>0.0</td>\n",
       "      <td>6</td>\n",
       "      <td>6</td>\n",
       "      <td>6.0</td>\n",
       "      <td>0.0</td>\n",
       "      <td>2.307692e+05</td>\n",
       "      <td>38461.53846</td>\n",
       "      <td>52.0</td>\n",
       "      <td>0.0</td>\n",
       "      <td>52</td>\n",
       "      <td>52</td>\n",
       "      <td>0</td>\n",
       "      <td>0.0</td>\n",
       "      <td>0.0</td>\n",
       "      <td>0</td>\n",
       "      <td>0</td>\n",
       "      <td>0</td>\n",
       "      <td>0.0</td>\n",
       "      <td>0.0</td>\n",
       "      <td>0</td>\n",
       "      <td>0</td>\n",
       "      <td>0</td>\n",
       "      <td>0</td>\n",
       "      <td>0</td>\n",
       "      <td>0</td>\n",
       "      <td>20</td>\n",
       "      <td>20</td>\n",
       "      <td>19230.769230</td>\n",
       "      <td>19230.769230</td>\n",
       "      <td>6</td>\n",
       "      <td>6</td>\n",
       "      <td>6.0</td>\n",
       "      <td>0.0</td>\n",
       "      <td>0.0</td>\n",
       "      <td>0</td>\n",
       "      <td>0</td>\n",
       "      <td>0</td>\n",
       "      <td>0</td>\n",
       "      <td>1</td>\n",
       "      <td>1</td>\n",
       "      <td>0</td>\n",
       "      <td>0</td>\n",
       "      <td>1</td>\n",
       "      <td>9.0</td>\n",
       "      <td>6.0</td>\n",
       "      <td>6.0</td>\n",
       "      <td>20</td>\n",
       "      <td>0</td>\n",
       "      <td>0</td>\n",
       "      <td>0</td>\n",
       "      <td>0</td>\n",
       "      <td>0</td>\n",
       "      <td>0</td>\n",
       "      <td>1</td>\n",
       "      <td>6</td>\n",
       "      <td>1</td>\n",
       "      <td>6</td>\n",
       "      <td>29</td>\n",
       "      <td>256</td>\n",
       "      <td>0</td>\n",
       "      <td>20</td>\n",
       "      <td>0.0</td>\n",
       "      <td>0.0</td>\n",
       "      <td>0</td>\n",
       "      <td>0</td>\n",
       "      <td>0.0</td>\n",
       "      <td>0.0</td>\n",
       "      <td>0</td>\n",
       "      <td>0</td>\n",
       "      <td>BENIGN</td>\n",
       "      <td>Friday-WorkingHours-Afternoon-DDos.pcap_ISCX.csv</td>\n",
       "    </tr>\n",
       "    <tr>\n",
       "      <th>3</th>\n",
       "      <td>46236</td>\n",
       "      <td>34</td>\n",
       "      <td>1</td>\n",
       "      <td>1</td>\n",
       "      <td>6</td>\n",
       "      <td>6</td>\n",
       "      <td>6</td>\n",
       "      <td>6</td>\n",
       "      <td>6.0</td>\n",
       "      <td>0.0</td>\n",
       "      <td>6</td>\n",
       "      <td>6</td>\n",
       "      <td>6.0</td>\n",
       "      <td>0.0</td>\n",
       "      <td>3.529412e+05</td>\n",
       "      <td>58823.52941</td>\n",
       "      <td>34.0</td>\n",
       "      <td>0.0</td>\n",
       "      <td>34</td>\n",
       "      <td>34</td>\n",
       "      <td>0</td>\n",
       "      <td>0.0</td>\n",
       "      <td>0.0</td>\n",
       "      <td>0</td>\n",
       "      <td>0</td>\n",
       "      <td>0</td>\n",
       "      <td>0.0</td>\n",
       "      <td>0.0</td>\n",
       "      <td>0</td>\n",
       "      <td>0</td>\n",
       "      <td>0</td>\n",
       "      <td>0</td>\n",
       "      <td>0</td>\n",
       "      <td>0</td>\n",
       "      <td>20</td>\n",
       "      <td>20</td>\n",
       "      <td>29411.764710</td>\n",
       "      <td>29411.764710</td>\n",
       "      <td>6</td>\n",
       "      <td>6</td>\n",
       "      <td>6.0</td>\n",
       "      <td>0.0</td>\n",
       "      <td>0.0</td>\n",
       "      <td>0</td>\n",
       "      <td>0</td>\n",
       "      <td>0</td>\n",
       "      <td>0</td>\n",
       "      <td>1</td>\n",
       "      <td>1</td>\n",
       "      <td>0</td>\n",
       "      <td>0</td>\n",
       "      <td>1</td>\n",
       "      <td>9.0</td>\n",
       "      <td>6.0</td>\n",
       "      <td>6.0</td>\n",
       "      <td>20</td>\n",
       "      <td>0</td>\n",
       "      <td>0</td>\n",
       "      <td>0</td>\n",
       "      <td>0</td>\n",
       "      <td>0</td>\n",
       "      <td>0</td>\n",
       "      <td>1</td>\n",
       "      <td>6</td>\n",
       "      <td>1</td>\n",
       "      <td>6</td>\n",
       "      <td>31</td>\n",
       "      <td>329</td>\n",
       "      <td>0</td>\n",
       "      <td>20</td>\n",
       "      <td>0.0</td>\n",
       "      <td>0.0</td>\n",
       "      <td>0</td>\n",
       "      <td>0</td>\n",
       "      <td>0.0</td>\n",
       "      <td>0.0</td>\n",
       "      <td>0</td>\n",
       "      <td>0</td>\n",
       "      <td>BENIGN</td>\n",
       "      <td>Friday-WorkingHours-Afternoon-DDos.pcap_ISCX.csv</td>\n",
       "    </tr>\n",
       "    <tr>\n",
       "      <th>4</th>\n",
       "      <td>54863</td>\n",
       "      <td>3</td>\n",
       "      <td>2</td>\n",
       "      <td>0</td>\n",
       "      <td>12</td>\n",
       "      <td>0</td>\n",
       "      <td>6</td>\n",
       "      <td>6</td>\n",
       "      <td>6.0</td>\n",
       "      <td>0.0</td>\n",
       "      <td>0</td>\n",
       "      <td>0</td>\n",
       "      <td>0.0</td>\n",
       "      <td>0.0</td>\n",
       "      <td>4.000000e+06</td>\n",
       "      <td>666666.66670</td>\n",
       "      <td>3.0</td>\n",
       "      <td>0.0</td>\n",
       "      <td>3</td>\n",
       "      <td>3</td>\n",
       "      <td>3</td>\n",
       "      <td>3.0</td>\n",
       "      <td>0.0</td>\n",
       "      <td>3</td>\n",
       "      <td>3</td>\n",
       "      <td>0</td>\n",
       "      <td>0.0</td>\n",
       "      <td>0.0</td>\n",
       "      <td>0</td>\n",
       "      <td>0</td>\n",
       "      <td>0</td>\n",
       "      <td>0</td>\n",
       "      <td>0</td>\n",
       "      <td>0</td>\n",
       "      <td>40</td>\n",
       "      <td>0</td>\n",
       "      <td>666666.666700</td>\n",
       "      <td>0.000000</td>\n",
       "      <td>6</td>\n",
       "      <td>6</td>\n",
       "      <td>6.0</td>\n",
       "      <td>0.0</td>\n",
       "      <td>0.0</td>\n",
       "      <td>0</td>\n",
       "      <td>0</td>\n",
       "      <td>0</td>\n",
       "      <td>0</td>\n",
       "      <td>1</td>\n",
       "      <td>0</td>\n",
       "      <td>0</td>\n",
       "      <td>0</td>\n",
       "      <td>0</td>\n",
       "      <td>9.0</td>\n",
       "      <td>6.0</td>\n",
       "      <td>0.0</td>\n",
       "      <td>40</td>\n",
       "      <td>0</td>\n",
       "      <td>0</td>\n",
       "      <td>0</td>\n",
       "      <td>0</td>\n",
       "      <td>0</td>\n",
       "      <td>0</td>\n",
       "      <td>2</td>\n",
       "      <td>12</td>\n",
       "      <td>0</td>\n",
       "      <td>0</td>\n",
       "      <td>32</td>\n",
       "      <td>-1</td>\n",
       "      <td>1</td>\n",
       "      <td>20</td>\n",
       "      <td>0.0</td>\n",
       "      <td>0.0</td>\n",
       "      <td>0</td>\n",
       "      <td>0</td>\n",
       "      <td>0.0</td>\n",
       "      <td>0.0</td>\n",
       "      <td>0</td>\n",
       "      <td>0</td>\n",
       "      <td>BENIGN</td>\n",
       "      <td>Friday-WorkingHours-Afternoon-DDos.pcap_ISCX.csv</td>\n",
       "    </tr>\n",
       "  </tbody>\n",
       "</table>\n",
       "</div>"
      ],
      "text/plain": [
       "    Destination Port   Flow Duration   Total Fwd Packets  \\\n",
       "0              54865               3                   2   \n",
       "1              55054             109                   1   \n",
       "2              55055              52                   1   \n",
       "3              46236              34                   1   \n",
       "4              54863               3                   2   \n",
       "\n",
       "    Total Backward Packets  Total Length of Fwd Packets  \\\n",
       "0                        0                           12   \n",
       "1                        1                            6   \n",
       "2                        1                            6   \n",
       "3                        1                            6   \n",
       "4                        0                           12   \n",
       "\n",
       "    Total Length of Bwd Packets   Fwd Packet Length Max  \\\n",
       "0                             0                       6   \n",
       "1                             6                       6   \n",
       "2                             6                       6   \n",
       "3                             6                       6   \n",
       "4                             0                       6   \n",
       "\n",
       "    Fwd Packet Length Min   Fwd Packet Length Mean   Fwd Packet Length Std  \\\n",
       "0                       6                      6.0                     0.0   \n",
       "1                       6                      6.0                     0.0   \n",
       "2                       6                      6.0                     0.0   \n",
       "3                       6                      6.0                     0.0   \n",
       "4                       6                      6.0                     0.0   \n",
       "\n",
       "   Bwd Packet Length Max   Bwd Packet Length Min   Bwd Packet Length Mean  \\\n",
       "0                      0                       0                      0.0   \n",
       "1                      6                       6                      6.0   \n",
       "2                      6                       6                      6.0   \n",
       "3                      6                       6                      6.0   \n",
       "4                      0                       0                      0.0   \n",
       "\n",
       "    Bwd Packet Length Std  Flow Bytes/s   Flow Packets/s   Flow IAT Mean  \\\n",
       "0                     0.0  4.000000e+06     666666.66670             3.0   \n",
       "1                     0.0  1.100917e+05      18348.62385           109.0   \n",
       "2                     0.0  2.307692e+05      38461.53846            52.0   \n",
       "3                     0.0  3.529412e+05      58823.52941            34.0   \n",
       "4                     0.0  4.000000e+06     666666.66670             3.0   \n",
       "\n",
       "    Flow IAT Std   Flow IAT Max   Flow IAT Min  Fwd IAT Total   Fwd IAT Mean  \\\n",
       "0            0.0              3              3              3            3.0   \n",
       "1            0.0            109            109              0            0.0   \n",
       "2            0.0             52             52              0            0.0   \n",
       "3            0.0             34             34              0            0.0   \n",
       "4            0.0              3              3              3            3.0   \n",
       "\n",
       "    Fwd IAT Std   Fwd IAT Max   Fwd IAT Min  Bwd IAT Total   Bwd IAT Mean  \\\n",
       "0           0.0             3             3              0            0.0   \n",
       "1           0.0             0             0              0            0.0   \n",
       "2           0.0             0             0              0            0.0   \n",
       "3           0.0             0             0              0            0.0   \n",
       "4           0.0             3             3              0            0.0   \n",
       "\n",
       "    Bwd IAT Std   Bwd IAT Max   Bwd IAT Min  Fwd PSH Flags   Bwd PSH Flags  \\\n",
       "0           0.0             0             0              0               0   \n",
       "1           0.0             0             0              0               0   \n",
       "2           0.0             0             0              0               0   \n",
       "3           0.0             0             0              0               0   \n",
       "4           0.0             0             0              0               0   \n",
       "\n",
       "    Fwd URG Flags   Bwd URG Flags   Fwd Header Length   Bwd Header Length  \\\n",
       "0               0               0                  40                   0   \n",
       "1               0               0                  20                  20   \n",
       "2               0               0                  20                  20   \n",
       "3               0               0                  20                  20   \n",
       "4               0               0                  40                   0   \n",
       "\n",
       "   Fwd Packets/s   Bwd Packets/s   Min Packet Length   Max Packet Length  \\\n",
       "0  666666.666700        0.000000                   6                   6   \n",
       "1    9174.311927     9174.311927                   6                   6   \n",
       "2   19230.769230    19230.769230                   6                   6   \n",
       "3   29411.764710    29411.764710                   6                   6   \n",
       "4  666666.666700        0.000000                   6                   6   \n",
       "\n",
       "    Packet Length Mean   Packet Length Std   Packet Length Variance  \\\n",
       "0                  6.0                 0.0                      0.0   \n",
       "1                  6.0                 0.0                      0.0   \n",
       "2                  6.0                 0.0                      0.0   \n",
       "3                  6.0                 0.0                      0.0   \n",
       "4                  6.0                 0.0                      0.0   \n",
       "\n",
       "   FIN Flag Count   SYN Flag Count   RST Flag Count   PSH Flag Count  \\\n",
       "0               0                0                0                0   \n",
       "1               0                0                0                0   \n",
       "2               0                0                0                0   \n",
       "3               0                0                0                0   \n",
       "4               0                0                0                0   \n",
       "\n",
       "    ACK Flag Count   URG Flag Count   CWE Flag Count   ECE Flag Count  \\\n",
       "0                1                0                0                0   \n",
       "1                1                1                0                0   \n",
       "2                1                1                0                0   \n",
       "3                1                1                0                0   \n",
       "4                1                0                0                0   \n",
       "\n",
       "    Down/Up Ratio   Average Packet Size   Avg Fwd Segment Size  \\\n",
       "0               0                   9.0                    6.0   \n",
       "1               1                   9.0                    6.0   \n",
       "2               1                   9.0                    6.0   \n",
       "3               1                   9.0                    6.0   \n",
       "4               0                   9.0                    6.0   \n",
       "\n",
       "    Avg Bwd Segment Size   Fwd Header Length.1  Fwd Avg Bytes/Bulk  \\\n",
       "0                    0.0                    40                   0   \n",
       "1                    6.0                    20                   0   \n",
       "2                    6.0                    20                   0   \n",
       "3                    6.0                    20                   0   \n",
       "4                    0.0                    40                   0   \n",
       "\n",
       "    Fwd Avg Packets/Bulk   Fwd Avg Bulk Rate   Bwd Avg Bytes/Bulk  \\\n",
       "0                      0                   0                    0   \n",
       "1                      0                   0                    0   \n",
       "2                      0                   0                    0   \n",
       "3                      0                   0                    0   \n",
       "4                      0                   0                    0   \n",
       "\n",
       "    Bwd Avg Packets/Bulk  Bwd Avg Bulk Rate  Subflow Fwd Packets  \\\n",
       "0                      0                  0                    2   \n",
       "1                      0                  0                    1   \n",
       "2                      0                  0                    1   \n",
       "3                      0                  0                    1   \n",
       "4                      0                  0                    2   \n",
       "\n",
       "    Subflow Fwd Bytes   Subflow Bwd Packets   Subflow Bwd Bytes  \\\n",
       "0                  12                     0                   0   \n",
       "1                   6                     1                   6   \n",
       "2                   6                     1                   6   \n",
       "3                   6                     1                   6   \n",
       "4                  12                     0                   0   \n",
       "\n",
       "   Init_Win_bytes_forward   Init_Win_bytes_backward   act_data_pkt_fwd  \\\n",
       "0                      33                        -1                  1   \n",
       "1                      29                       256                  0   \n",
       "2                      29                       256                  0   \n",
       "3                      31                       329                  0   \n",
       "4                      32                        -1                  1   \n",
       "\n",
       "    min_seg_size_forward  Active Mean   Active Std   Active Max   Active Min  \\\n",
       "0                     20          0.0          0.0            0            0   \n",
       "1                     20          0.0          0.0            0            0   \n",
       "2                     20          0.0          0.0            0            0   \n",
       "3                     20          0.0          0.0            0            0   \n",
       "4                     20          0.0          0.0            0            0   \n",
       "\n",
       "   Idle Mean   Idle Std   Idle Max   Idle Min   Label  \\\n",
       "0        0.0        0.0          0          0  BENIGN   \n",
       "1        0.0        0.0          0          0  BENIGN   \n",
       "2        0.0        0.0          0          0  BENIGN   \n",
       "3        0.0        0.0          0          0  BENIGN   \n",
       "4        0.0        0.0          0          0  BENIGN   \n",
       "\n",
       "                                         __source__  \n",
       "0  Friday-WorkingHours-Afternoon-DDos.pcap_ISCX.csv  \n",
       "1  Friday-WorkingHours-Afternoon-DDos.pcap_ISCX.csv  \n",
       "2  Friday-WorkingHours-Afternoon-DDos.pcap_ISCX.csv  \n",
       "3  Friday-WorkingHours-Afternoon-DDos.pcap_ISCX.csv  \n",
       "4  Friday-WorkingHours-Afternoon-DDos.pcap_ISCX.csv  "
      ]
     },
     "execution_count": 3,
     "metadata": {},
     "output_type": "execute_result"
    }
   ],
   "source": [
    "# Load a sample of CSVs and combine\n",
    "csv_paths = sorted(glob.glob(os.path.join(DATA_DIR, '*.csv')))\n",
    "assert csv_paths, 'No CSVs found in datasets/'\n",
    "print('Found CSVs:', len(csv_paths))\n",
    "\n",
    "# Read a subset for speed\n",
    "frames = []\n",
    "for p in csv_paths:\n",
    "    try:\n",
    "        df = pd.read_csv(p, nrows=NROWS_PER_CSV)\n",
    "        df['__source__'] = os.path.basename(p)\n",
    "        frames.append(df)\n",
    "        print('Loaded', os.path.basename(p), df.shape)\n",
    "    except Exception as e:\n",
    "        print('Skip', os.path.basename(p), e)\n",
    "\n",
    "data = pd.concat(frames, ignore_index=True)\n",
    "print('Combined shape:', data.shape)\n",
    "\n",
    "data.head()\n"
   ]
  },
  {
   "cell_type": "code",
   "execution_count": 4,
   "id": "a9dbc2f2",
   "metadata": {},
   "outputs": [
    {
     "name": "stdout",
     "output_type": "stream",
     "text": [
      "Normalized column names (stripped whitespace).\n",
      "Missing ratio (top 20):\n",
      "Flow Bytes/s            0.000231\n",
      "Destination Port        0.000000\n",
      "Bwd Avg Packets/Bulk    0.000000\n",
      "Fwd Avg Bulk Rate       0.000000\n",
      "Fwd Avg Packets/Bulk    0.000000\n",
      "Fwd Avg Bytes/Bulk      0.000000\n",
      "Fwd Header Length.1     0.000000\n",
      "Avg Bwd Segment Size    0.000000\n",
      "Avg Fwd Segment Size    0.000000\n",
      "Average Packet Size     0.000000\n",
      "Down/Up Ratio           0.000000\n",
      "ECE Flag Count          0.000000\n",
      "CWE Flag Count          0.000000\n",
      "URG Flag Count          0.000000\n",
      "ACK Flag Count          0.000000\n",
      "PSH Flag Count          0.000000\n",
      "RST Flag Count          0.000000\n",
      "SYN Flag Count          0.000000\n",
      "FIN Flag Count          0.000000\n",
      "Bwd Avg Bytes/Bulk      0.000000\n",
      "dtype: float64\n",
      "Label candidates: ['Label']\n"
     ]
    },
    {
     "name": "stderr",
     "output_type": "stream",
     "text": [
      "/var/folders/ld/jlrbt3yj2sb2pyt2qk83zf280000gn/T/ipykernel_20530/4225221675.py:34: UserWarning: Glyph 65533 (\\N{REPLACEMENT CHARACTER}) missing from font(s) Arial.\n",
      "  plt.tight_layout()\n",
      "/Users/nitishmalluru/HW/CSCE_482/.venv/lib/python3.11/site-packages/IPython/core/pylabtools.py:170: UserWarning: Glyph 65533 (\\N{REPLACEMENT CHARACTER}) missing from font(s) Arial.\n",
      "  fig.canvas.print_figure(bytes_io, **kw)\n"
     ]
    },
    {
     "data": {
      "image/png": "[encoded data removed]",
      "text/plain": [
       "<Figure size 800x400 with 1 Axes>"
      ]
     },
     "metadata": {},
     "output_type": "display_data"
    }
   ],
   "source": [
    "# Basic EDA: missing values and label distribution\n",
    "# Normalize column names first\n",
    "orig_cols = list(data.columns)\n",
    "data.columns = [str(c).strip() for c in data.columns]\n",
    "if orig_cols != list(data.columns):\n",
    "    print('Normalized column names (stripped whitespace).')\n",
    "\n",
    "missing = data.isna().mean().sort_values(ascending=False)\n",
    "print('Missing ratio (top 20):')\n",
    "print(missing.head(20))\n",
    "\n",
    "# Use explicit label if present, otherwise try to infer\n",
    "label_col = LABEL_COL if LABEL_COL in data.columns else None\n",
    "if label_col is None:\n",
    "    label_candidates = [c for c in data.columns if c.lower() in ['label','attack','class','target','outcome']]\n",
    "else:\n",
    "    label_candidates = [label_col]\n",
    "print('Label candidates:', label_candidates)\n",
    "\n",
    "if label_candidates:\n",
    "    label_col = label_candidates[0]\n",
    "    fig, ax = plt.subplots(figsize=(8,4))\n",
    "    sns.countplot(data=data, x=label_col, ax=ax)\n",
    "    ax.set_title(f'Label distribution: {label_col}')\n",
    "    ax.set_yscale('log')\n",
    "    for p in ax.patches:\n",
    "        count = int(p.get_height())\n",
    "        if count > 0:\n",
    "            ax.annotate(f'{count}',\n",
    "                        (p.get_x() + p.get_width() / 2, count),\n",
    "                        ha='center', va='bottom', fontsize=8,\n",
    "                        xytext=(0, 3), textcoords='offset points')\n",
    "    plt.xticks(rotation=45, ha='right')\n",
    "    plt.tight_layout()\n",
    "    plt.show()\n",
    "else:\n",
    "    print('No obvious label column found.')\n"
   ]
  },
  {
   "cell_type": "code",
   "execution_count": 5,
   "id": "3b256997",
   "metadata": {},
   "outputs": [
    {
     "name": "stdout",
     "output_type": "stream",
     "text": [
      "Numeric features: 78\n",
      "Extreme values check:\n",
      "Min: -3.2212234e+10 Max: inf\n",
      "Any inf? True\n",
      "Any extremely large? True\n",
      "Feature ranges after robust scaling:\n",
      "Min: -228.97351 Max: 316.22598\n",
      "X shape: (800000, 78) num_classes: 12\n"
     ]
    },
    {
     "data": {
      "image/png": "[encoded data removed]",
      "text/plain": [
       "<Figure size 1000x800 with 1 Axes>"
      ]
     },
     "metadata": {},
     "output_type": "display_data"
    }
   ],
   "source": [
    "# Feature selection: numeric columns only\n",
    "num_cols = [c for c in data.columns if np.issubdtype(data[c].dtype, np.number)]\n",
    "print('Numeric features:', len(num_cols))\n",
    "\n",
    "# Drop columns with too many missing values\n",
    "keep_cols = [c for c in num_cols if data[c].isna().mean() < 0.2]\n",
    "X_raw = data[keep_cols].fillna(0.0).astype(np.float32)\n",
    "\n",
    "# Check for extreme values (same as before)\n",
    "print('Extreme values check:')\n",
    "print('Min:', X_raw.min().min(), 'Max:', X_raw.max().max())\n",
    "print('Any inf?', np.isinf(X_raw.values).any())\n",
    "print('Any extremely large?', (np.abs(X_raw.values) > 1e10).any())\n",
    "\n",
    "#clip extreme values\n",
    "X_clipped = X_raw.clip(-1e8, 1e8)\n",
    "\n",
    "# SIMPLE STANDARD NORMALIZATION (Z-score)\n",
    "X_mean = X_clipped.mean()         \n",
    "X_std = X_clipped.std()            \n",
    "X_std = X_std.replace(0, 1)     \n",
    "\n",
    "# Standard Z-score normalization: (x - mean) / std\n",
    "X = (X_clipped - X_mean) / X_std\n",
    "print('Feature ranges after robust scaling:')\n",
    "print('Min:', X.min().min(), 'Max:', X.max().max())\n",
    "\n",
    "# Build supervised targets from explicit label\n",
    "y_categorical = data[LABEL_COL].astype('category')\n",
    "y = y_categorical.cat.codes.values.astype(np.int64)\n",
    "num_classes = int(y_categorical.cat.categories.size)\n",
    "\n",
    "print('X shape:', X.shape, 'num_classes:', num_classes)\n",
    "\n",
    "# Quick correlation heatmap on a small subset\n",
    "corr_sample = X.sample(min(len(X), 5000), random_state=42)\n",
    "plt.figure(figsize=(10,8))\n",
    "sns.heatmap(corr_sample.corr().abs().clip(0,1), cmap='magma', cbar=False)\n",
    "plt.title('Feature correlation (abs) - sample')\n",
    "plt.tight_layout()\n",
    "plt.show()"
   ]
  },
  {
   "cell_type": "code",
   "execution_count": 6,
   "id": "eaca2cc3",
   "metadata": {},
   "outputs": [
    {
     "name": "stdout",
     "output_type": "stream",
     "text": [
      "Dataset splits - Train: 480000, Val: 160000, Test: 160000\n",
      "Using Apple Silicon MPS\n",
      "MLP(\n",
      "  (net): Sequential(\n",
      "    (0): Linear(in_features=78, out_features=156, bias=True)\n",
      "    (1): ReLU()\n",
      "    (2): BatchNorm1d(156, eps=1e-05, momentum=0.1, affine=True, track_running_stats=True)\n",
      "    (3): Linear(in_features=156, out_features=156, bias=True)\n",
      "    (4): ReLU()\n",
      "    (5): BatchNorm1d(156, eps=1e-05, momentum=0.1, affine=True, track_running_stats=True)\n",
      "    (6): Linear(in_features=156, out_features=12, bias=True)\n",
      "  )\n",
      ")\n",
      "Using device: mps\n"
     ]
    }
   ],
   "source": [
    "# Minimal PyTorch dataset and model\n",
    "from torch.utils.data import TensorDataset, DataLoader, random_split\n",
    "import torch.nn as nn\n",
    "import torch.optim as optim\n",
    "\n",
    "features = torch.from_numpy(X.values)\n",
    "targets = torch.from_numpy(y)\n",
    "dataset = TensorDataset(features, targets)\n",
    "\n",
    "# Three-way split: Train/Val/Test (60/20/20)\n",
    "test_size = int(0.2 * len(dataset))\n",
    "val_size = int(0.2 * len(dataset))\n",
    "train_size = len(dataset) - val_size - test_size\n",
    "\n",
    "train_ds, val_ds, test_ds = random_split(\n",
    "    dataset, \n",
    "    [train_size, val_size, test_size], \n",
    "    generator=torch.Generator().manual_seed(42)\n",
    ")\n",
    "\n",
    "train_dl = DataLoader(train_ds, batch_size=BATCH_SIZE, shuffle=True)\n",
    "val_dl = DataLoader(val_ds, batch_size=BATCH_SIZE)\n",
    "test_dl = DataLoader(test_ds, batch_size=BATCH_SIZE)\n",
    "\n",
    "print(f\"Dataset splits - Train: {len(train_ds)}, Val: {len(val_ds)}, Test: {len(test_ds)}\")\n",
    "\n",
    "class MLP(nn.Module):\n",
    "    def __init__(self, in_dim, num_classes):\n",
    "        super().__init__()\n",
    "        hidden = max(32, min(512, in_dim * 2))\n",
    "        self.net = nn.Sequential(\n",
    "            nn.Linear(in_dim, hidden),\n",
    "            nn.ReLU(),\n",
    "            nn.BatchNorm1d(hidden),\n",
    "            nn.Linear(hidden, hidden),\n",
    "            nn.ReLU(),\n",
    "            nn.BatchNorm1d(hidden),\n",
    "            nn.Linear(hidden, num_classes)\n",
    "        )\n",
    "    def forward(self, x):\n",
    "        return self.net(x)\n",
    "\n",
    "model = MLP(features.shape[1], num_classes)\n",
    "\n",
    "# Device selection optimized for Docker environments\n",
    "if torch.cuda.is_available():\n",
    "    device = torch.device('cuda')\n",
    "    print(f'Using CUDA: {torch.cuda.get_device_name()}')\n",
    "elif hasattr(torch.backends, 'mps') and torch.backends.mps.is_available():\n",
    "    device = torch.device('mps')\n",
    "    print('Using Apple Silicon MPS')\n",
    "else:\n",
    "    device = torch.device('cpu')\n",
    "    torch.set_num_threads(torch.get_num_threads())\n",
    "    print(f'Using CPU: {torch.get_num_threads()} threads')\n",
    "\n",
    "model.to(device)\n",
    "\n",
    "# Choose loss based on task shape\n",
    "if num_classes > 1:\n",
    "    criterion = nn.CrossEntropyLoss()\n",
    "else:\n",
    "    # For 1-class fallback, treat as regression placeholder\n",
    "    criterion = nn.MSELoss()\n",
    "optimizer = optim.Adam(model.parameters(), lr=1e-3)\n",
    "print(model)\n",
    "print('Using device:', device)"
   ]
  },
  {
   "cell_type": "code",
   "execution_count": 7,
   "id": "c6926da2",
   "metadata": {
    "scrolled": true
   },
   "outputs": [
    {
     "name": "stdout",
     "output_type": "stream",
     "text": [
      "Model:  MLP(\n",
      "  (net): Sequential(\n",
      "    (0): Linear(in_features=78, out_features=156, bias=True)\n",
      "    (1): ReLU()\n",
      "    (2): BatchNorm1d(156, eps=1e-05, momentum=0.1, affine=True, track_running_stats=True)\n",
      "    (3): Linear(in_features=156, out_features=156, bias=True)\n",
      "    (4): ReLU()\n",
      "    (5): BatchNorm1d(156, eps=1e-05, momentum=0.1, affine=True, track_running_stats=True)\n",
      "    (6): Linear(in_features=156, out_features=12, bias=True)\n",
      "  )\n",
      ")\n",
      "---------------------\n"
     ]
    },
    {
     "name": "stderr",
     "output_type": "stream",
     "text": [
      "  7%|▋         | 64/938 [00:01<00:09, 91.58it/s]"
     ]
    },
    {
     "name": "stdout",
     "output_type": "stream",
     "text": [
      "Epoch 1 | Batch 50 | loss=0.3167 | 134883.7 samples/s | seen=25600\n"
     ]
    },
    {
     "name": "stderr",
     "output_type": "stream",
     "text": [
      " 13%|█▎        | 118/938 [00:01<00:06, 119.15it/s]"
     ]
    },
    {
     "name": "stdout",
     "output_type": "stream",
     "text": [
      "Epoch 1 | Batch 100 | loss=0.1335 | 127560.7 samples/s | seen=51200\n"
     ]
    },
    {
     "name": "stderr",
     "output_type": "stream",
     "text": [
      " 18%|█▊        | 170/938 [00:01<00:06, 124.14it/s]"
     ]
    },
    {
     "name": "stdout",
     "output_type": "stream",
     "text": [
      "Epoch 1 | Batch 150 | loss=0.0857 | 153897.4 samples/s | seen=76800\n"
     ]
    },
    {
     "name": "stderr",
     "output_type": "stream",
     "text": [
      " 24%|██▍       | 223/938 [00:02<00:06, 113.76it/s]"
     ]
    },
    {
     "name": "stdout",
     "output_type": "stream",
     "text": [
      "Epoch 1 | Batch 200 | loss=0.0984 | 135385.4 samples/s | seen=102400\n"
     ]
    },
    {
     "name": "stderr",
     "output_type": "stream",
     "text": [
      " 28%|██▊       | 264/938 [00:02<00:05, 124.49it/s]"
     ]
    },
    {
     "name": "stdout",
     "output_type": "stream",
     "text": [
      "Epoch 1 | Batch 250 | loss=0.0788 | 118514.6 samples/s | seen=128000\n"
     ]
    },
    {
     "name": "stderr",
     "output_type": "stream",
     "text": [
      " 34%|███▎      | 316/938 [00:03<00:04, 125.05it/s]"
     ]
    },
    {
     "name": "stdout",
     "output_type": "stream",
     "text": [
      "Epoch 1 | Batch 300 | loss=0.0473 | 136677.9 samples/s | seen=153600\n"
     ]
    },
    {
     "name": "stderr",
     "output_type": "stream",
     "text": [
      " 39%|███▉      | 368/938 [00:03<00:04, 125.75it/s]"
     ]
    },
    {
     "name": "stdout",
     "output_type": "stream",
     "text": [
      "Epoch 1 | Batch 350 | loss=0.0462 | 141785.5 samples/s | seen=179200\n"
     ]
    },
    {
     "name": "stderr",
     "output_type": "stream",
     "text": [
      " 45%|████▍     | 420/938 [00:04<00:04, 125.46it/s]"
     ]
    },
    {
     "name": "stdout",
     "output_type": "stream",
     "text": [
      "Epoch 1 | Batch 400 | loss=0.0549 | 162233.4 samples/s | seen=204800\n"
     ]
    },
    {
     "name": "stderr",
     "output_type": "stream",
     "text": [
      " 50%|█████     | 472/938 [00:04<00:03, 126.84it/s]"
     ]
    },
    {
     "name": "stdout",
     "output_type": "stream",
     "text": [
      "Epoch 1 | Batch 450 | loss=0.0702 | 111789.9 samples/s | seen=230400\n"
     ]
    },
    {
     "name": "stderr",
     "output_type": "stream",
     "text": [
      " 56%|█████▌    | 526/938 [00:04<00:03, 128.81it/s]"
     ]
    },
    {
     "name": "stdout",
     "output_type": "stream",
     "text": [
      "Epoch 1 | Batch 500 | loss=0.0748 | 123582.0 samples/s | seen=256000\n"
     ]
    },
    {
     "name": "stderr",
     "output_type": "stream",
     "text": [
      " 60%|██████    | 566/938 [00:05<00:02, 129.40it/s]"
     ]
    },
    {
     "name": "stdout",
     "output_type": "stream",
     "text": [
      "Epoch 1 | Batch 550 | loss=0.0423 | 162331.5 samples/s | seen=281600\n"
     ]
    },
    {
     "name": "stderr",
     "output_type": "stream",
     "text": [
      " 66%|██████▌   | 618/938 [00:05<00:02, 126.70it/s]"
     ]
    },
    {
     "name": "stdout",
     "output_type": "stream",
     "text": [
      "Epoch 1 | Batch 600 | loss=0.0222 | 114489.7 samples/s | seen=307200\n"
     ]
    },
    {
     "name": "stderr",
     "output_type": "stream",
     "text": [
      " 71%|███████▏  | 670/938 [00:05<00:02, 125.74it/s]"
     ]
    },
    {
     "name": "stdout",
     "output_type": "stream",
     "text": [
      "Epoch 1 | Batch 650 | loss=0.0372 | 109913.2 samples/s | seen=332800\n"
     ]
    },
    {
     "name": "stderr",
     "output_type": "stream",
     "text": [
      " 76%|███████▌  | 710/938 [00:06<00:01, 127.93it/s]"
     ]
    },
    {
     "name": "stdout",
     "output_type": "stream",
     "text": [
      "Epoch 1 | Batch 700 | loss=0.0413 | 122252.3 samples/s | seen=358400\n"
     ]
    },
    {
     "name": "stderr",
     "output_type": "stream",
     "text": [
      " 81%|████████  | 762/938 [00:06<00:01, 118.87it/s]"
     ]
    },
    {
     "name": "stdout",
     "output_type": "stream",
     "text": [
      "Epoch 1 | Batch 750 | loss=0.0441 | 128131.5 samples/s | seen=384000\n"
     ]
    },
    {
     "name": "stderr",
     "output_type": "stream",
     "text": [
      " 87%|████████▋ | 816/938 [00:07<00:00, 125.12it/s]"
     ]
    },
    {
     "name": "stdout",
     "output_type": "stream",
     "text": [
      "Epoch 1 | Batch 800 | loss=0.0843 | 110609.5 samples/s | seen=409600\n"
     ]
    },
    {
     "name": "stderr",
     "output_type": "stream",
     "text": [
      " 93%|█████████▎| 868/938 [00:07<00:00, 125.30it/s]"
     ]
    },
    {
     "name": "stdout",
     "output_type": "stream",
     "text": [
      "Epoch 1 | Batch 850 | loss=0.0730 | 115443.7 samples/s | seen=435200\n"
     ]
    },
    {
     "name": "stderr",
     "output_type": "stream",
     "text": [
      " 98%|█████████▊| 920/938 [00:08<00:00, 125.57it/s]"
     ]
    },
    {
     "name": "stdout",
     "output_type": "stream",
     "text": [
      "Epoch 1 | Batch 900 | loss=0.0246 | 110274.4 samples/s | seen=460800\n"
     ]
    },
    {
     "name": "stderr",
     "output_type": "stream",
     "text": [
      "                                                  \r"
     ]
    },
    {
     "name": "stdout",
     "output_type": "stream",
     "text": [
      "Train Loss: 0.12289694296618303\n",
      "Epoch 1 done in 10.3s | train_loss=0.1229 val_loss=0.0354 train_acc=0.9750 val_acc=0.9908\n",
      "Model:  MLP(\n",
      "  (net): Sequential(\n",
      "    (0): Linear(in_features=78, out_features=156, bias=True)\n",
      "    (1): ReLU()\n",
      "    (2): BatchNorm1d(156, eps=1e-05, momentum=0.1, affine=True, track_running_stats=True)\n",
      "    (3): Linear(in_features=156, out_features=156, bias=True)\n",
      "    (4): ReLU()\n",
      "    (5): BatchNorm1d(156, eps=1e-05, momentum=0.1, affine=True, track_running_stats=True)\n",
      "    (6): Linear(in_features=156, out_features=12, bias=True)\n",
      "  )\n",
      ")\n",
      "---------------------\n"
     ]
    },
    {
     "name": "stderr",
     "output_type": "stream",
     "text": [
      "  8%|▊         | 73/938 [00:00<00:06, 140.46it/s]"
     ]
    },
    {
     "name": "stdout",
     "output_type": "stream",
     "text": [
      "Epoch 2 | Batch 50 | loss=0.0406 | 136826.0 samples/s | seen=25600\n"
     ]
    },
    {
     "name": "stderr",
     "output_type": "stream",
     "text": [
      " 13%|█▎        | 118/938 [00:00<00:05, 139.23it/s]"
     ]
    },
    {
     "name": "stdout",
     "output_type": "stream",
     "text": [
      "Epoch 2 | Batch 100 | loss=0.0233 | 134883.7 samples/s | seen=51200\n"
     ]
    },
    {
     "name": "stderr",
     "output_type": "stream",
     "text": [
      " 19%|█▉        | 176/938 [00:01<00:05, 142.07it/s]"
     ]
    },
    {
     "name": "stdout",
     "output_type": "stream",
     "text": [
      "Epoch 2 | Batch 150 | loss=0.0290 | 175663.3 samples/s | seen=76800\n"
     ]
    },
    {
     "name": "stderr",
     "output_type": "stream",
     "text": [
      " 24%|██▎       | 221/938 [00:01<00:05, 140.12it/s]"
     ]
    },
    {
     "name": "stdout",
     "output_type": "stream",
     "text": [
      "Epoch 2 | Batch 200 | loss=0.0260 | 146957.1 samples/s | seen=102400\n"
     ]
    },
    {
     "name": "stderr",
     "output_type": "stream",
     "text": [
      " 28%|██▊       | 266/938 [00:01<00:04, 143.31it/s]"
     ]
    },
    {
     "name": "stdout",
     "output_type": "stream",
     "text": [
      "Epoch 2 | Batch 250 | loss=0.0318 | 173674.4 samples/s | seen=128000\n"
     ]
    },
    {
     "name": "stderr",
     "output_type": "stream",
     "text": [
      " 35%|███▍      | 326/938 [00:02<00:04, 143.13it/s]"
     ]
    },
    {
     "name": "stdout",
     "output_type": "stream",
     "text": [
      "Epoch 2 | Batch 300 | loss=0.0184 | 153798.2 samples/s | seen=153600\n"
     ]
    },
    {
     "name": "stderr",
     "output_type": "stream",
     "text": [
      " 40%|███▉      | 371/938 [00:02<00:04, 140.79it/s]"
     ]
    },
    {
     "name": "stdout",
     "output_type": "stream",
     "text": [
      "Epoch 2 | Batch 350 | loss=0.0231 | 114514.1 samples/s | seen=179200\n"
     ]
    },
    {
     "name": "stderr",
     "output_type": "stream",
     "text": [
      " 44%|████▍     | 416/938 [00:02<00:03, 144.93it/s]"
     ]
    },
    {
     "name": "stdout",
     "output_type": "stream",
     "text": [
      "Epoch 2 | Batch 400 | loss=0.0350 | 156476.5 samples/s | seen=204800\n"
     ]
    },
    {
     "name": "stderr",
     "output_type": "stream",
     "text": [
      " 49%|████▉     | 461/938 [00:03<00:03, 141.95it/s]"
     ]
    },
    {
     "name": "stdout",
     "output_type": "stream",
     "text": [
      "Epoch 2 | Batch 450 | loss=0.0308 | 93429.8 samples/s | seen=230400\n"
     ]
    },
    {
     "name": "stderr",
     "output_type": "stream",
     "text": [
      " 55%|█████▌    | 520/938 [00:03<00:03, 131.19it/s]"
     ]
    },
    {
     "name": "stdout",
     "output_type": "stream",
     "text": [
      "Epoch 2 | Batch 500 | loss=0.0265 | 106866.6 samples/s | seen=256000\n"
     ]
    },
    {
     "name": "stderr",
     "output_type": "stream",
     "text": [
      " 60%|██████    | 565/938 [00:04<00:02, 139.57it/s]"
     ]
    },
    {
     "name": "stdout",
     "output_type": "stream",
     "text": [
      "Epoch 2 | Batch 550 | loss=0.0367 | 157014.2 samples/s | seen=281600\n"
     ]
    },
    {
     "name": "stderr",
     "output_type": "stream",
     "text": [
      " 67%|██████▋   | 625/938 [00:04<00:02, 141.21it/s]"
     ]
    },
    {
     "name": "stdout",
     "output_type": "stream",
     "text": [
      "Epoch 2 | Batch 600 | loss=0.0269 | 170097.7 samples/s | seen=307200\n"
     ]
    },
    {
     "name": "stderr",
     "output_type": "stream",
     "text": [
      " 71%|███████▏  | 670/938 [00:04<00:01, 141.62it/s]"
     ]
    },
    {
     "name": "stdout",
     "output_type": "stream",
     "text": [
      "Epoch 2 | Batch 650 | loss=0.0211 | 172170.6 samples/s | seen=332800\n"
     ]
    },
    {
     "name": "stderr",
     "output_type": "stream",
     "text": [
      " 76%|███████▌  | 715/938 [00:05<00:01, 142.56it/s]"
     ]
    },
    {
     "name": "stdout",
     "output_type": "stream",
     "text": [
      "Epoch 2 | Batch 700 | loss=0.0198 | 140938.7 samples/s | seen=358400\n"
     ]
    },
    {
     "name": "stderr",
     "output_type": "stream",
     "text": [
      " 83%|████████▎ | 775/938 [00:05<00:01, 141.27it/s]"
     ]
    },
    {
     "name": "stdout",
     "output_type": "stream",
     "text": [
      "Epoch 2 | Batch 750 | loss=0.0256 | 174976.3 samples/s | seen=384000\n"
     ]
    },
    {
     "name": "stderr",
     "output_type": "stream",
     "text": [
      " 87%|████████▋ | 819/938 [00:05<00:00, 139.09it/s]"
     ]
    },
    {
     "name": "stdout",
     "output_type": "stream",
     "text": [
      "Epoch 2 | Batch 800 | loss=0.0293 | 139094.7 samples/s | seen=409600\n"
     ]
    },
    {
     "name": "stderr",
     "output_type": "stream",
     "text": [
      " 92%|█████████▏| 864/938 [00:06<00:00, 118.38it/s]"
     ]
    },
    {
     "name": "stdout",
     "output_type": "stream",
     "text": [
      "Epoch 2 | Batch 850 | loss=0.0447 | 154874.1 samples/s | seen=435200\n"
     ]
    },
    {
     "name": "stderr",
     "output_type": "stream",
     "text": [
      " 99%|█████████▊| 924/938 [00:06<00:00, 136.32it/s]"
     ]
    },
    {
     "name": "stdout",
     "output_type": "stream",
     "text": [
      "Epoch 2 | Batch 900 | loss=0.0089 | 154018.8 samples/s | seen=460800\n"
     ]
    },
    {
     "name": "stderr",
     "output_type": "stream",
     "text": [
      "                                                  \r"
     ]
    },
    {
     "name": "stdout",
     "output_type": "stream",
     "text": [
      "Train Loss: 0.035484656084577244\n",
      "Epoch 2 done in 8.2s | train_loss=0.0355 val_loss=0.0296 train_acc=0.9899 val_acc=0.9914\n",
      "Model:  MLP(\n",
      "  (net): Sequential(\n",
      "    (0): Linear(in_features=78, out_features=156, bias=True)\n",
      "    (1): ReLU()\n",
      "    (2): BatchNorm1d(156, eps=1e-05, momentum=0.1, affine=True, track_running_stats=True)\n",
      "    (3): Linear(in_features=156, out_features=156, bias=True)\n",
      "    (4): ReLU()\n",
      "    (5): BatchNorm1d(156, eps=1e-05, momentum=0.1, affine=True, track_running_stats=True)\n",
      "    (6): Linear(in_features=156, out_features=12, bias=True)\n",
      "  )\n",
      ")\n",
      "---------------------\n"
     ]
    },
    {
     "name": "stderr",
     "output_type": "stream",
     "text": [
      "  8%|▊         | 72/938 [00:00<00:06, 142.22it/s]"
     ]
    },
    {
     "name": "stdout",
     "output_type": "stream",
     "text": [
      "Epoch 3 | Batch 50 | loss=0.0450 | 157014.2 samples/s | seen=25600\n"
     ]
    },
    {
     "name": "stderr",
     "output_type": "stream",
     "text": [
      " 12%|█▏        | 117/938 [00:00<00:05, 142.09it/s]"
     ]
    },
    {
     "name": "stdout",
     "output_type": "stream",
     "text": [
      "Epoch 3 | Batch 100 | loss=0.0344 | 163580.4 samples/s | seen=51200\n"
     ]
    },
    {
     "name": "stderr",
     "output_type": "stream",
     "text": [
      " 19%|█▊        | 175/938 [00:01<00:05, 131.84it/s]"
     ]
    },
    {
     "name": "stdout",
     "output_type": "stream",
     "text": [
      "Epoch 3 | Batch 150 | loss=0.0523 | 166510.3 samples/s | seen=76800\n"
     ]
    },
    {
     "name": "stderr",
     "output_type": "stream",
     "text": [
      " 23%|██▎       | 220/938 [00:01<00:05, 139.39it/s]"
     ]
    },
    {
     "name": "stdout",
     "output_type": "stream",
     "text": [
      "Epoch 3 | Batch 200 | loss=0.0276 | 172794.0 samples/s | seen=102400\n"
     ]
    },
    {
     "name": "stderr",
     "output_type": "stream",
     "text": [
      " 28%|██▊       | 265/938 [00:01<00:04, 142.01it/s]"
     ]
    },
    {
     "name": "stdout",
     "output_type": "stream",
     "text": [
      "Epoch 3 | Batch 250 | loss=0.0109 | 150142.2 samples/s | seen=128000\n"
     ]
    },
    {
     "name": "stderr",
     "output_type": "stream",
     "text": [
      " 35%|███▍      | 325/938 [00:02<00:04, 123.05it/s]"
     ]
    },
    {
     "name": "stdout",
     "output_type": "stream",
     "text": [
      "Epoch 3 | Batch 300 | loss=0.0200 | 106691.4 samples/s | seen=153600\n"
     ]
    },
    {
     "name": "stderr",
     "output_type": "stream",
     "text": [
      " 39%|███▉      | 369/938 [00:02<00:04, 134.62it/s]"
     ]
    },
    {
     "name": "stdout",
     "output_type": "stream",
     "text": [
      "Epoch 3 | Batch 350 | loss=0.0440 | 170801.2 samples/s | seen=179200\n"
     ]
    },
    {
     "name": "stderr",
     "output_type": "stream",
     "text": [
      " 46%|████▌     | 428/938 [00:03<00:03, 137.91it/s]"
     ]
    },
    {
     "name": "stdout",
     "output_type": "stream",
     "text": [
      "Epoch 3 | Batch 400 | loss=0.0477 | 109515.2 samples/s | seen=204800\n"
     ]
    },
    {
     "name": "stderr",
     "output_type": "stream",
     "text": [
      " 50%|█████     | 473/938 [00:03<00:03, 139.34it/s]"
     ]
    },
    {
     "name": "stdout",
     "output_type": "stream",
     "text": [
      "Epoch 3 | Batch 450 | loss=0.0199 | 151295.2 samples/s | seen=230400\n"
     ]
    },
    {
     "name": "stderr",
     "output_type": "stream",
     "text": [
      " 55%|█████▌    | 518/938 [00:03<00:02, 142.98it/s]"
     ]
    },
    {
     "name": "stdout",
     "output_type": "stream",
     "text": [
      "Epoch 3 | Batch 500 | loss=0.0247 | 113049.3 samples/s | seen=256000\n"
     ]
    },
    {
     "name": "stderr",
     "output_type": "stream",
     "text": [
      " 60%|█████▉    | 562/938 [00:04<00:02, 133.76it/s]"
     ]
    },
    {
     "name": "stdout",
     "output_type": "stream",
     "text": [
      "Epoch 3 | Batch 550 | loss=0.0078 | 158966.9 samples/s | seen=281600\n"
     ]
    },
    {
     "name": "stderr",
     "output_type": "stream",
     "text": [
      " 66%|██████▌   | 617/938 [00:04<00:02, 130.02it/s]"
     ]
    },
    {
     "name": "stdout",
     "output_type": "stream",
     "text": [
      "Epoch 3 | Batch 600 | loss=0.0287 | 146256.5 samples/s | seen=307200\n"
     ]
    },
    {
     "name": "stderr",
     "output_type": "stream",
     "text": [
      " 72%|███████▏  | 671/938 [00:04<00:02, 128.14it/s]"
     ]
    },
    {
     "name": "stdout",
     "output_type": "stream",
     "text": [
      "Epoch 3 | Batch 650 | loss=0.0263 | 105896.9 samples/s | seen=332800\n"
     ]
    },
    {
     "name": "stderr",
     "output_type": "stream",
     "text": [
      " 78%|███████▊  | 728/938 [00:05<00:01, 124.00it/s]"
     ]
    },
    {
     "name": "stdout",
     "output_type": "stream",
     "text": [
      "Epoch 3 | Batch 700 | loss=0.0231 | 140230.1 samples/s | seen=358400\n"
     ]
    },
    {
     "name": "stderr",
     "output_type": "stream",
     "text": [
      " 82%|████████▏ | 771/938 [00:05<00:01, 132.42it/s]"
     ]
    },
    {
     "name": "stdout",
     "output_type": "stream",
     "text": [
      "Epoch 3 | Batch 750 | loss=0.0223 | 117651.0 samples/s | seen=384000\n"
     ]
    },
    {
     "name": "stderr",
     "output_type": "stream",
     "text": [
      " 87%|████████▋ | 812/938 [00:06<00:01, 122.09it/s]"
     ]
    },
    {
     "name": "stdout",
     "output_type": "stream",
     "text": [
      "Epoch 3 | Batch 800 | loss=0.0437 | 89845.4 samples/s | seen=409600\n"
     ]
    },
    {
     "name": "stderr",
     "output_type": "stream",
     "text": [
      " 93%|█████████▎| 870/938 [00:06<00:00, 135.26it/s]"
     ]
    },
    {
     "name": "stdout",
     "output_type": "stream",
     "text": [
      "Epoch 3 | Batch 850 | loss=0.0337 | 132888.8 samples/s | seen=435200\n"
     ]
    },
    {
     "name": "stderr",
     "output_type": "stream",
     "text": [
      " 99%|█████████▉| 928/938 [00:06<00:00, 138.39it/s]"
     ]
    },
    {
     "name": "stdout",
     "output_type": "stream",
     "text": [
      "Epoch 3 | Batch 900 | loss=0.0264 | 137897.9 samples/s | seen=460800\n"
     ]
    },
    {
     "name": "stderr",
     "output_type": "stream",
     "text": [
      "                                                  \r"
     ]
    },
    {
     "name": "stdout",
     "output_type": "stream",
     "text": [
      "Train Loss: 0.031071248329679172\n",
      "Epoch 3 done in 8.6s | train_loss=0.0311 val_loss=0.0302 train_acc=0.9910 val_acc=0.9917\n"
     ]
    }
   ],
   "source": [
    "# Training loop (few epochs) with robust dtypes and tqdm fallback\n",
    "try:\n",
    "    from tqdm import tqdm  # avoids ipywidgets renderer\n",
    "except Exception:  # pragma: no cover\n",
    "    def tqdm(x, **kwargs):\n",
    "        return x\n",
    "\n",
    "def accuracy(logits, targets):\n",
    "    if logits.ndim == 1 or logits.shape[1] == 1:\n",
    "        return float('nan')\n",
    "    preds = logits.argmax(dim=1)\n",
    "    return (preds == targets).float().mean().item()\n",
    "\n",
    "def compute_loss(outputs, targets):\n",
    "    if num_classes > 1:\n",
    "        return criterion(outputs, targets.long())\n",
    "    else:\n",
    "        return criterion(outputs.squeeze().float(), targets.float())\n",
    "\n",
    "EPOCHS = EPOCHS  # from config\n",
    "import time\n",
    "\n",
    "history = {\n",
    "    'train_loss': [],\n",
    "    'val_loss': [],\n",
    "    'train_acc': [],\n",
    "    'val_acc': []\n",
    "}\n",
    "\n",
    "\n",
    "for epoch in range(1, EPOCHS+1):\n",
    "    start_epoch = time.time()\n",
    "    model.train()\n",
    "    print(\"Model: \", model)\n",
    "    print(\"---------------------\")\n",
    "\n",
    "    train_loss = 0.0\n",
    "    train_acc = 0.0\n",
    "    num_train = 0\n",
    "    for b_idx, (xb, yb) in enumerate(tqdm(train_dl, leave=False)):\n",
    "        if MAX_BATCHES and b_idx >= MAX_BATCHES:\n",
    "            break\n",
    "        t0 = time.time()\n",
    "        xb = xb.to(device).float()\n",
    "        # print(\"xb: \", xb)\n",
    "        yb = yb.to(device)\n",
    "        # print(\"YB: \", yb)\n",
    "        optimizer.zero_grad()\n",
    "        out = model(xb)\n",
    "        # print(\"Out: \", out)\n",
    "        loss = compute_loss(out, yb)\n",
    "        # print(\"Loss: \", loss)\n",
    "        loss.backward()\n",
    "        optimizer.step()\n",
    "        batch_time = time.time() - t0\n",
    "        num_train += xb.size(0)\n",
    "        train_loss += loss.item() * xb.size(0)\n",
    "        if num_classes > 1:\n",
    "            train_acc += accuracy(out, yb) * xb.size(0)\n",
    "        if (b_idx + 1) % LOG_INTERVAL == 0:\n",
    "            speed = xb.size(0) / batch_time if batch_time > 0 else float('inf')\n",
    "            print(f\"Epoch {epoch} | Batch {b_idx+1} | loss={loss.item():.4f} | {speed:.1f} samples/s | seen={num_train}\")\n",
    "    train_loss /= max(1, num_train)\n",
    "    print(\"Train Loss:\", train_loss)\n",
    "    train_acc = (train_acc / max(1, num_train)) if num_classes > 1 else float('nan')\n",
    "\n",
    "    model.eval()\n",
    "    val_loss = 0.0\n",
    "    val_acc = 0.0\n",
    "    num_val = 0\n",
    "    with torch.no_grad():\n",
    "        for b_idx, (xb, yb) in enumerate(val_dl):\n",
    "            if MAX_BATCHES and b_idx >= MAX_BATCHES:\n",
    "                break\n",
    "            xb = xb.to(device).float()\n",
    "            yb = yb.to(device)\n",
    "            out = model(xb)\n",
    "            loss = compute_loss(out, yb)\n",
    "            val_loss += loss.item() * xb.size(0)\n",
    "            num_val += xb.size(0)\n",
    "            if num_classes > 1:\n",
    "                val_acc += accuracy(out, yb) * xb.size(0)\n",
    "    val_loss /= max(1, num_val)\n",
    "    val_acc = (val_acc / max(1, num_val)) if num_classes > 1 else float('nan')\n",
    "\n",
    "    history['train_loss'].append(train_loss)\n",
    "    history['val_loss'].append(val_loss)\n",
    "    history['train_acc'].append(train_acc)\n",
    "    history['val_acc'].append(val_acc)\n",
    "    \n",
    "    epoch_time = time.time() - start_epoch\n",
    "    print(f\"Epoch {epoch} done in {epoch_time:.1f}s | train_loss={train_loss:.4f} val_loss={val_loss:.4f} train_acc={train_acc:.4f} val_acc={val_acc:.4f}\")\n"
   ]
  },
  {
   "cell_type": "code",
   "execution_count": 8,
   "id": "7aad707c",
   "metadata": {},
   "outputs": [
    {
     "name": "stdout",
     "output_type": "stream",
     "text": [
      "Test: loss=0.0295 acc=0.9918\n"
     ]
    }
   ],
   "source": [
    "# Test evaluation\n",
    "model.eval()\n",
    "from math import isnan\n",
    "\n",
    "test_loss = 0.0\n",
    "test_acc = 0.0\n",
    "num_test = 0\n",
    "with torch.no_grad():\n",
    "    for b_idx, (xb, yb) in enumerate(test_dl):\n",
    "        if MAX_BATCHES and b_idx >= MAX_BATCHES:\n",
    "            break\n",
    "        xb = xb.to(device).float()\n",
    "        yb = yb.to(device)\n",
    "        out = model(xb)\n",
    "        loss = criterion(out, yb.long())\n",
    "        test_loss += loss.item() * xb.size(0)\n",
    "        num_test += xb.size(0)\n",
    "        if num_classes > 1:\n",
    "            test_acc += accuracy(out, yb) * xb.size(0)\n",
    "\n",
    "test_loss /= max(1, num_test)\n",
    "test_acc = (test_acc / max(1, num_test)) if num_classes > 1 else float('nan')\n",
    "\n",
    "print(f\"Test: loss={test_loss:.4f} acc={(test_acc if not isnan(test_acc) else float('nan')):.4f}\")\n"
   ]
  },
  {
   "cell_type": "code",
   "execution_count": 9,
   "id": "14eda52e",
   "metadata": {},
   "outputs": [
    {
     "data": {
      "image/png": "[encoded data removed]",
      "text/plain": [
       "<Figure size 1200x400 with 2 Axes>"
      ]
     },
     "metadata": {},
     "output_type": "display_data"
    },
    {
     "name": "stdout",
     "output_type": "stream",
     "text": [
      "Final metrics -> {'train_loss': 0.031071248329679172, 'val_loss': 0.030242039020359514, 'test_loss': 0.02945547517389059, 'train_acc': 0.9909583333333334, 'val_acc': 0.99165625, 'test_acc': 0.99176875}\n"
     ]
    }
   ],
   "source": [
    "# Train/Val/Test curves with proper labels\n",
    "fig, axes = plt.subplots(1, 2, figsize=(12,4))\n",
    "\n",
    "# Prepare epoch indices so all epochs are shown on the x-axis\n",
    "x_epochs = list(range(1, len(history['train_loss']) + 1))\n",
    "\n",
    "# Loss\n",
    "axes[0].plot(x_epochs, history['train_loss'], label='Train Loss')\n",
    "axes[0].plot(x_epochs, history['val_loss'], label='Val Loss')\n",
    "axes[0].axhline(test_loss, color='k', linestyle='--', label='Test Loss')\n",
    "axes[0].set_title('Loss (Train / Val / Test)')\n",
    "axes[0].set_xlabel('Epoch')\n",
    "axes[0].set_ylabel('Loss')\n",
    "axes[0].set_xticks(x_epochs)\n",
    "axes[0].legend(loc='best')\n",
    "\n",
    "# Accuracy\n",
    "axes[1].plot(x_epochs, history['train_acc'], label='Train Acc')\n",
    "axes[1].plot(x_epochs, history['val_acc'], label='Val Acc')\n",
    "axes[1].axhline(test_acc, color='k', linestyle='--', label='Test Acc')\n",
    "axes[1].set_title('Accuracy (Train / Val / Test)')\n",
    "axes[1].set_xlabel('Epoch')\n",
    "axes[1].set_ylabel('Accuracy')\n",
    "axes[1].set_xticks(x_epochs)\n",
    "axes[1].legend(loc='best')\n",
    "\n",
    "plt.tight_layout()\n",
    "plt.show()\n",
    "\n",
    "print('Final metrics ->', {\n",
    "    'train_loss': history['train_loss'][-1],\n",
    "    'val_loss': history['val_loss'][-1],\n",
    "    'test_loss': test_loss,\n",
    "    'train_acc': history['train_acc'][-1],\n",
    "    'val_acc': history['val_acc'][-1],\n",
    "    'test_acc': test_acc,\n",
    "})\n"
   ]
  },
  {
   "cell_type": "code",
   "execution_count": 10,
   "id": "fd8663b6",
   "metadata": {},
   "outputs": [
    {
     "name": "stdout",
     "output_type": "stream",
     "text": [
      "Saved model to: /Users/nitishmalluru/HW/CSCE_482/artifacts/mlp.pt\n",
      "Saved scaler to: /Users/nitishmalluru/HW/CSCE_482/artifacts/scaler_stats.npz\n",
      "Saved classes to: /Users/nitishmalluru/HW/CSCE_482/artifacts/classes.txt\n"
     ]
    }
   ],
   "source": [
    "# Save artifacts (optional)\n",
    "import os\n",
    "ARTIFACTS_DIR = os.path.join(os.getcwd(), 'artifacts')\n",
    "os.makedirs(ARTIFACTS_DIR, exist_ok=True)\n",
    "\n",
    "# Save model weights\n",
    "model_path = os.path.join(ARTIFACTS_DIR, 'mlp.pt')\n",
    "torch.save(model.state_dict(), model_path)\n",
    "print('Saved model to:', model_path)\n",
    "\n",
    "# Save scaler stats and feature names\n",
    "scaler_path = os.path.join(ARTIFACTS_DIR, 'scaler_stats.npz')\n",
    "np.savez(\n",
    "    scaler_path,\n",
    "    mean=X_mean.values if hasattr(X_mean, 'values') else np.array(X_mean),\n",
    "    std=X_std.values if hasattr(X_std, 'values') else np.array(X_std),\n",
    "    columns=np.array(list(X.columns))\n",
    ")\n",
    "print('Saved scaler to:', scaler_path)\n",
    "\n",
    "# Save class mapping\n",
    "classes_path = os.path.join(ARTIFACTS_DIR, 'classes.txt')\n",
    "if 'y_categorical' in globals():\n",
    "    class_names = list(y_categorical.cat.categories)\n",
    "else:\n",
    "    # Fallback: try to infer from training\n",
    "    class_names = [str(i) for i in range(int(num_classes))]\n",
    "with open(classes_path, 'w') as f:\n",
    "    for cname in class_names:\n",
    "        f.write(str(cname) + '\\n')\n",
    "print('Saved classes to:', classes_path)\n"
   ]
  }
 ],
 "metadata": {
  "kernelspec": {
   "display_name": "Python 3 (ipykernel)",
   "language": "python",
   "name": "python3"
  },
  "language_info": {
   "codemirror_mode": {
    "name": "ipython",
    "version": 3
   },
   "file_extension": ".py",
   "mimetype": "text/x-python",
   "name": "python",
   "nbconvert_exporter": "python",
   "pygments_lexer": "ipython3",
   "version": "3.11.13"
  }
 },
 "nbformat": 4,
 "nbformat_minor": 5
}
