{
 "cells": [
  {
   "cell_type": "code",
   "execution_count": 27,
   "id": "494515d9",
   "metadata": {},
   "outputs": [
    {
     "name": "stdout",
     "output_type": "stream",
     "text": [
      "PyTorch: 2.8.0\n",
      "Data dir: /Users/nitishmalluru/HW/CSCE_482/datasets\n"
     ]
    }
   ],
   "source": [
    "# Setup: imports and paths\n",
    "import os\n",
    "import glob\n",
    "import pandas as pd\n",
    "import numpy as np\n",
    "import matplotlib.pyplot as plt\n",
    "import seaborn as sns\n",
    "import torch\n",
    "\n",
    "pd.set_option('display.max_columns', 120)\n",
    "sns.set_theme(style='whitegrid')\n",
    "\n",
    "DATA_DIR = os.path.join(os.getcwd(), 'datasets')\n",
    "assert os.path.isdir(DATA_DIR), f\"Missing datasets dir: {DATA_DIR}\"\n",
    "print('PyTorch:', torch.__version__)\n",
    "print('Data dir:', DATA_DIR)\n"
   ]
  },
  {
   "cell_type": "code",
   "execution_count": 28,
   "id": "25116a6c",
   "metadata": {},
   "outputs": [
    {
     "data": {
      "text/plain": [
       "<torch._C.Generator at 0x119b5e0b0>"
      ]
     },
     "execution_count": 28,
     "metadata": {},
     "output_type": "execute_result"
    }
   ],
   "source": [
    "# Config\n",
    "LABEL_COL = 'Label'            # set the label column explicitly\n",
    "NROWS_PER_CSV = 100_000        # sample per CSV for speed\n",
    "BATCH_SIZE = 512               # larger batches for MPS\n",
    "EPOCHS = 3                     # training epochs\n",
    "LOG_INTERVAL = 50              # batches between logs\n",
    "MAX_BATCHES = None             # cap batches per epoch (None means all)\n",
    "SEED = 42\n",
    "\n",
    "import random\n",
    "random.seed(SEED)\n",
    "np.random.seed(SEED)\n",
    "torch.manual_seed(SEED)\n"
   ]
  },
  {
   "cell_type": "code",
   "execution_count": 29,
   "id": "5ecaeb89",
   "metadata": {},
   "outputs": [
    {
     "name": "stdout",
     "output_type": "stream",
     "text": [
      "Found CSVs: 8\n",
      "Loaded Friday-WorkingHours-Afternoon-DDos.pcap_ISCX.csv (100000, 80)\n",
      "Loaded Friday-WorkingHours-Afternoon-PortScan.pcap_ISCX.csv (100000, 80)\n",
      "Loaded Friday-WorkingHours-Morning.pcap_ISCX.csv (100000, 80)\n",
      "Loaded Monday-WorkingHours.pcap_ISCX.csv (100000, 80)\n",
      "Loaded Thursday-WorkingHours-Afternoon-Infilteration.pcap_ISCX.csv (100000, 80)\n",
      "Loaded Thursday-WorkingHours-Morning-WebAttacks.pcap_ISCX.csv (100000, 80)\n",
      "Loaded Tuesday-WorkingHours.pcap_ISCX.csv (100000, 80)\n",
      "Loaded Wednesday-workingHours.pcap_ISCX.csv (100000, 80)\n",
      "Combined shape: (800000, 80)\n"
     ]
    },
    {
     "data": {
      "text/html": [
       "<div>\n",
       "<style scoped>\n",
       "    .dataframe tbody tr th:only-of-type {\n",
       "        vertical-align: middle;\n",
       "    }\n",
       "\n",
       "    .dataframe tbody tr th {\n",
       "        vertical-align: top;\n",
       "    }\n",
       "\n",
       "    .dataframe thead th {\n",
       "        text-align: right;\n",
       "    }\n",
       "</style>\n",
       "<table border=\"1\" class=\"dataframe\">\n",
       "  <thead>\n",
       "    <tr style=\"text-align: right;\">\n",
       "      <th></th>\n",
       "      <th>Destination Port</th>\n",
       "      <th>Flow Duration</th>\n",
       "      <th>Total Fwd Packets</th>\n",
       "      <th>Total Backward Packets</th>\n",
       "      <th>Total Length of Fwd Packets</th>\n",
       "      <th>Total Length of Bwd Packets</th>\n",
       "      <th>Fwd Packet Length Max</th>\n",
       "      <th>Fwd Packet Length Min</th>\n",
       "      <th>Fwd Packet Length Mean</th>\n",
       "      <th>Fwd Packet Length Std</th>\n",
       "      <th>Bwd Packet Length Max</th>\n",
       "      <th>Bwd Packet Length Min</th>\n",
       "      <th>Bwd Packet Length Mean</th>\n",
       "      <th>Bwd Packet Length Std</th>\n",
       "      <th>Flow Bytes/s</th>\n",
       "      <th>Flow Packets/s</th>\n",
       "      <th>Flow IAT Mean</th>\n",
       "      <th>Flow IAT Std</th>\n",
       "      <th>Flow IAT Max</th>\n",
       "      <th>Flow IAT Min</th>\n",
       "      <th>Fwd IAT Total</th>\n",
       "      <th>Fwd IAT Mean</th>\n",
       "      <th>Fwd IAT Std</th>\n",
       "      <th>Fwd IAT Max</th>\n",
       "      <th>Fwd IAT Min</th>\n",
       "      <th>Bwd IAT Total</th>\n",
       "      <th>Bwd IAT Mean</th>\n",
       "      <th>Bwd IAT Std</th>\n",
       "      <th>Bwd IAT Max</th>\n",
       "      <th>Bwd IAT Min</th>\n",
       "      <th>Fwd PSH Flags</th>\n",
       "      <th>Bwd PSH Flags</th>\n",
       "      <th>Fwd URG Flags</th>\n",
       "      <th>Bwd URG Flags</th>\n",
       "      <th>Fwd Header Length</th>\n",
       "      <th>Bwd Header Length</th>\n",
       "      <th>Fwd Packets/s</th>\n",
       "      <th>Bwd Packets/s</th>\n",
       "      <th>Min Packet Length</th>\n",
       "      <th>Max Packet Length</th>\n",
       "      <th>Packet Length Mean</th>\n",
       "      <th>Packet Length Std</th>\n",
       "      <th>Packet Length Variance</th>\n",
       "      <th>FIN Flag Count</th>\n",
       "      <th>SYN Flag Count</th>\n",
       "      <th>RST Flag Count</th>\n",
       "      <th>PSH Flag Count</th>\n",
       "      <th>ACK Flag Count</th>\n",
       "      <th>URG Flag Count</th>\n",
       "      <th>CWE Flag Count</th>\n",
       "      <th>ECE Flag Count</th>\n",
       "      <th>Down/Up Ratio</th>\n",
       "      <th>Average Packet Size</th>\n",
       "      <th>Avg Fwd Segment Size</th>\n",
       "      <th>Avg Bwd Segment Size</th>\n",
       "      <th>Fwd Header Length.1</th>\n",
       "      <th>Fwd Avg Bytes/Bulk</th>\n",
       "      <th>Fwd Avg Packets/Bulk</th>\n",
       "      <th>Fwd Avg Bulk Rate</th>\n",
       "      <th>Bwd Avg Bytes/Bulk</th>\n",
       "      <th>Bwd Avg Packets/Bulk</th>\n",
       "      <th>Bwd Avg Bulk Rate</th>\n",
       "      <th>Subflow Fwd Packets</th>\n",
       "      <th>Subflow Fwd Bytes</th>\n",
       "      <th>Subflow Bwd Packets</th>\n",
       "      <th>Subflow Bwd Bytes</th>\n",
       "      <th>Init_Win_bytes_forward</th>\n",
       "      <th>Init_Win_bytes_backward</th>\n",
       "      <th>act_data_pkt_fwd</th>\n",
       "      <th>min_seg_size_forward</th>\n",
       "      <th>Active Mean</th>\n",
       "      <th>Active Std</th>\n",
       "      <th>Active Max</th>\n",
       "      <th>Active Min</th>\n",
       "      <th>Idle Mean</th>\n",
       "      <th>Idle Std</th>\n",
       "      <th>Idle Max</th>\n",
       "      <th>Idle Min</th>\n",
       "      <th>Label</th>\n",
       "      <th>__source__</th>\n",
       "    </tr>\n",
       "  </thead>\n",
       "  <tbody>\n",
       "    <tr>\n",
       "      <th>0</th>\n",
       "      <td>54865</td>\n",
       "      <td>3</td>\n",
       "      <td>2</td>\n",
       "      <td>0</td>\n",
       "      <td>12</td>\n",
       "      <td>0</td>\n",
       "      <td>6</td>\n",
       "      <td>6</td>\n",
       "      <td>6.0</td>\n",
       "      <td>0.0</td>\n",
       "      <td>0</td>\n",
       "      <td>0</td>\n",
       "      <td>0.0</td>\n",
       "      <td>0.0</td>\n",
       "      <td>4.000000e+06</td>\n",
       "      <td>666666.66670</td>\n",
       "      <td>3.0</td>\n",
       "      <td>0.0</td>\n",
       "      <td>3</td>\n",
       "      <td>3</td>\n",
       "      <td>3</td>\n",
       "      <td>3.0</td>\n",
       "      <td>0.0</td>\n",
       "      <td>3</td>\n",
       "      <td>3</td>\n",
       "      <td>0</td>\n",
       "      <td>0.0</td>\n",
       "      <td>0.0</td>\n",
       "      <td>0</td>\n",
       "      <td>0</td>\n",
       "      <td>0</td>\n",
       "      <td>0</td>\n",
       "      <td>0</td>\n",
       "      <td>0</td>\n",
       "      <td>40</td>\n",
       "      <td>0</td>\n",
       "      <td>666666.666700</td>\n",
       "      <td>0.000000</td>\n",
       "      <td>6</td>\n",
       "      <td>6</td>\n",
       "      <td>6.0</td>\n",
       "      <td>0.0</td>\n",
       "      <td>0.0</td>\n",
       "      <td>0</td>\n",
       "      <td>0</td>\n",
       "      <td>0</td>\n",
       "      <td>0</td>\n",
       "      <td>1</td>\n",
       "      <td>0</td>\n",
       "      <td>0</td>\n",
       "      <td>0</td>\n",
       "      <td>0</td>\n",
       "      <td>9.0</td>\n",
       "      <td>6.0</td>\n",
       "      <td>0.0</td>\n",
       "      <td>40</td>\n",
       "      <td>0</td>\n",
       "      <td>0</td>\n",
       "      <td>0</td>\n",
       "      <td>0</td>\n",
       "      <td>0</td>\n",
       "      <td>0</td>\n",
       "      <td>2</td>\n",
       "      <td>12</td>\n",
       "      <td>0</td>\n",
       "      <td>0</td>\n",
       "      <td>33</td>\n",
       "      <td>-1</td>\n",
       "      <td>1</td>\n",
       "      <td>20</td>\n",
       "      <td>0.0</td>\n",
       "      <td>0.0</td>\n",
       "      <td>0</td>\n",
       "      <td>0</td>\n",
       "      <td>0.0</td>\n",
       "      <td>0.0</td>\n",
       "      <td>0</td>\n",
       "      <td>0</td>\n",
       "      <td>BENIGN</td>\n",
       "      <td>Friday-WorkingHours-Afternoon-DDos.pcap_ISCX.csv</td>\n",
       "    </tr>\n",
       "    <tr>\n",
       "      <th>1</th>\n",
       "      <td>55054</td>\n",
       "      <td>109</td>\n",
       "      <td>1</td>\n",
       "      <td>1</td>\n",
       "      <td>6</td>\n",
       "      <td>6</td>\n",
       "      <td>6</td>\n",
       "      <td>6</td>\n",
       "      <td>6.0</td>\n",
       "      <td>0.0</td>\n",
       "      <td>6</td>\n",
       "      <td>6</td>\n",
       "      <td>6.0</td>\n",
       "      <td>0.0</td>\n",
       "      <td>1.100917e+05</td>\n",
       "      <td>18348.62385</td>\n",
       "      <td>109.0</td>\n",
       "      <td>0.0</td>\n",
       "      <td>109</td>\n",
       "      <td>109</td>\n",
       "      <td>0</td>\n",
       "      <td>0.0</td>\n",
       "      <td>0.0</td>\n",
       "      <td>0</td>\n",
       "      <td>0</td>\n",
       "      <td>0</td>\n",
       "      <td>0.0</td>\n",
       "      <td>0.0</td>\n",
       "      <td>0</td>\n",
       "      <td>0</td>\n",
       "      <td>0</td>\n",
       "      <td>0</td>\n",
       "      <td>0</td>\n",
       "      <td>0</td>\n",
       "      <td>20</td>\n",
       "      <td>20</td>\n",
       "      <td>9174.311927</td>\n",
       "      <td>9174.311927</td>\n",
       "      <td>6</td>\n",
       "      <td>6</td>\n",
       "      <td>6.0</td>\n",
       "      <td>0.0</td>\n",
       "      <td>0.0</td>\n",
       "      <td>0</td>\n",
       "      <td>0</td>\n",
       "      <td>0</td>\n",
       "      <td>0</td>\n",
       "      <td>1</td>\n",
       "      <td>1</td>\n",
       "      <td>0</td>\n",
       "      <td>0</td>\n",
       "      <td>1</td>\n",
       "      <td>9.0</td>\n",
       "      <td>6.0</td>\n",
       "      <td>6.0</td>\n",
       "      <td>20</td>\n",
       "      <td>0</td>\n",
       "      <td>0</td>\n",
       "      <td>0</td>\n",
       "      <td>0</td>\n",
       "      <td>0</td>\n",
       "      <td>0</td>\n",
       "      <td>1</td>\n",
       "      <td>6</td>\n",
       "      <td>1</td>\n",
       "      <td>6</td>\n",
       "      <td>29</td>\n",
       "      <td>256</td>\n",
       "      <td>0</td>\n",
       "      <td>20</td>\n",
       "      <td>0.0</td>\n",
       "      <td>0.0</td>\n",
       "      <td>0</td>\n",
       "      <td>0</td>\n",
       "      <td>0.0</td>\n",
       "      <td>0.0</td>\n",
       "      <td>0</td>\n",
       "      <td>0</td>\n",
       "      <td>BENIGN</td>\n",
       "      <td>Friday-WorkingHours-Afternoon-DDos.pcap_ISCX.csv</td>\n",
       "    </tr>\n",
       "    <tr>\n",
       "      <th>2</th>\n",
       "      <td>55055</td>\n",
       "      <td>52</td>\n",
       "      <td>1</td>\n",
       "      <td>1</td>\n",
       "      <td>6</td>\n",
       "      <td>6</td>\n",
       "      <td>6</td>\n",
       "      <td>6</td>\n",
       "      <td>6.0</td>\n",
       "      <td>0.0</td>\n",
       "      <td>6</td>\n",
       "      <td>6</td>\n",
       "      <td>6.0</td>\n",
       "      <td>0.0</td>\n",
       "      <td>2.307692e+05</td>\n",
       "      <td>38461.53846</td>\n",
       "      <td>52.0</td>\n",
       "      <td>0.0</td>\n",
       "      <td>52</td>\n",
       "      <td>52</td>\n",
       "      <td>0</td>\n",
       "      <td>0.0</td>\n",
       "      <td>0.0</td>\n",
       "      <td>0</td>\n",
       "      <td>0</td>\n",
       "      <td>0</td>\n",
       "      <td>0.0</td>\n",
       "      <td>0.0</td>\n",
       "      <td>0</td>\n",
       "      <td>0</td>\n",
       "      <td>0</td>\n",
       "      <td>0</td>\n",
       "      <td>0</td>\n",
       "      <td>0</td>\n",
       "      <td>20</td>\n",
       "      <td>20</td>\n",
       "      <td>19230.769230</td>\n",
       "      <td>19230.769230</td>\n",
       "      <td>6</td>\n",
       "      <td>6</td>\n",
       "      <td>6.0</td>\n",
       "      <td>0.0</td>\n",
       "      <td>0.0</td>\n",
       "      <td>0</td>\n",
       "      <td>0</td>\n",
       "      <td>0</td>\n",
       "      <td>0</td>\n",
       "      <td>1</td>\n",
       "      <td>1</td>\n",
       "      <td>0</td>\n",
       "      <td>0</td>\n",
       "      <td>1</td>\n",
       "      <td>9.0</td>\n",
       "      <td>6.0</td>\n",
       "      <td>6.0</td>\n",
       "      <td>20</td>\n",
       "      <td>0</td>\n",
       "      <td>0</td>\n",
       "      <td>0</td>\n",
       "      <td>0</td>\n",
       "      <td>0</td>\n",
       "      <td>0</td>\n",
       "      <td>1</td>\n",
       "      <td>6</td>\n",
       "      <td>1</td>\n",
       "      <td>6</td>\n",
       "      <td>29</td>\n",
       "      <td>256</td>\n",
       "      <td>0</td>\n",
       "      <td>20</td>\n",
       "      <td>0.0</td>\n",
       "      <td>0.0</td>\n",
       "      <td>0</td>\n",
       "      <td>0</td>\n",
       "      <td>0.0</td>\n",
       "      <td>0.0</td>\n",
       "      <td>0</td>\n",
       "      <td>0</td>\n",
       "      <td>BENIGN</td>\n",
       "      <td>Friday-WorkingHours-Afternoon-DDos.pcap_ISCX.csv</td>\n",
       "    </tr>\n",
       "    <tr>\n",
       "      <th>3</th>\n",
       "      <td>46236</td>\n",
       "      <td>34</td>\n",
       "      <td>1</td>\n",
       "      <td>1</td>\n",
       "      <td>6</td>\n",
       "      <td>6</td>\n",
       "      <td>6</td>\n",
       "      <td>6</td>\n",
       "      <td>6.0</td>\n",
       "      <td>0.0</td>\n",
       "      <td>6</td>\n",
       "      <td>6</td>\n",
       "      <td>6.0</td>\n",
       "      <td>0.0</td>\n",
       "      <td>3.529412e+05</td>\n",
       "      <td>58823.52941</td>\n",
       "      <td>34.0</td>\n",
       "      <td>0.0</td>\n",
       "      <td>34</td>\n",
       "      <td>34</td>\n",
       "      <td>0</td>\n",
       "      <td>0.0</td>\n",
       "      <td>0.0</td>\n",
       "      <td>0</td>\n",
       "      <td>0</td>\n",
       "      <td>0</td>\n",
       "      <td>0.0</td>\n",
       "      <td>0.0</td>\n",
       "      <td>0</td>\n",
       "      <td>0</td>\n",
       "      <td>0</td>\n",
       "      <td>0</td>\n",
       "      <td>0</td>\n",
       "      <td>0</td>\n",
       "      <td>20</td>\n",
       "      <td>20</td>\n",
       "      <td>29411.764710</td>\n",
       "      <td>29411.764710</td>\n",
       "      <td>6</td>\n",
       "      <td>6</td>\n",
       "      <td>6.0</td>\n",
       "      <td>0.0</td>\n",
       "      <td>0.0</td>\n",
       "      <td>0</td>\n",
       "      <td>0</td>\n",
       "      <td>0</td>\n",
       "      <td>0</td>\n",
       "      <td>1</td>\n",
       "      <td>1</td>\n",
       "      <td>0</td>\n",
       "      <td>0</td>\n",
       "      <td>1</td>\n",
       "      <td>9.0</td>\n",
       "      <td>6.0</td>\n",
       "      <td>6.0</td>\n",
       "      <td>20</td>\n",
       "      <td>0</td>\n",
       "      <td>0</td>\n",
       "      <td>0</td>\n",
       "      <td>0</td>\n",
       "      <td>0</td>\n",
       "      <td>0</td>\n",
       "      <td>1</td>\n",
       "      <td>6</td>\n",
       "      <td>1</td>\n",
       "      <td>6</td>\n",
       "      <td>31</td>\n",
       "      <td>329</td>\n",
       "      <td>0</td>\n",
       "      <td>20</td>\n",
       "      <td>0.0</td>\n",
       "      <td>0.0</td>\n",
       "      <td>0</td>\n",
       "      <td>0</td>\n",
       "      <td>0.0</td>\n",
       "      <td>0.0</td>\n",
       "      <td>0</td>\n",
       "      <td>0</td>\n",
       "      <td>BENIGN</td>\n",
       "      <td>Friday-WorkingHours-Afternoon-DDos.pcap_ISCX.csv</td>\n",
       "    </tr>\n",
       "    <tr>\n",
       "      <th>4</th>\n",
       "      <td>54863</td>\n",
       "      <td>3</td>\n",
       "      <td>2</td>\n",
       "      <td>0</td>\n",
       "      <td>12</td>\n",
       "      <td>0</td>\n",
       "      <td>6</td>\n",
       "      <td>6</td>\n",
       "      <td>6.0</td>\n",
       "      <td>0.0</td>\n",
       "      <td>0</td>\n",
       "      <td>0</td>\n",
       "      <td>0.0</td>\n",
       "      <td>0.0</td>\n",
       "      <td>4.000000e+06</td>\n",
       "      <td>666666.66670</td>\n",
       "      <td>3.0</td>\n",
       "      <td>0.0</td>\n",
       "      <td>3</td>\n",
       "      <td>3</td>\n",
       "      <td>3</td>\n",
       "      <td>3.0</td>\n",
       "      <td>0.0</td>\n",
       "      <td>3</td>\n",
       "      <td>3</td>\n",
       "      <td>0</td>\n",
       "      <td>0.0</td>\n",
       "      <td>0.0</td>\n",
       "      <td>0</td>\n",
       "      <td>0</td>\n",
       "      <td>0</td>\n",
       "      <td>0</td>\n",
       "      <td>0</td>\n",
       "      <td>0</td>\n",
       "      <td>40</td>\n",
       "      <td>0</td>\n",
       "      <td>666666.666700</td>\n",
       "      <td>0.000000</td>\n",
       "      <td>6</td>\n",
       "      <td>6</td>\n",
       "      <td>6.0</td>\n",
       "      <td>0.0</td>\n",
       "      <td>0.0</td>\n",
       "      <td>0</td>\n",
       "      <td>0</td>\n",
       "      <td>0</td>\n",
       "      <td>0</td>\n",
       "      <td>1</td>\n",
       "      <td>0</td>\n",
       "      <td>0</td>\n",
       "      <td>0</td>\n",
       "      <td>0</td>\n",
       "      <td>9.0</td>\n",
       "      <td>6.0</td>\n",
       "      <td>0.0</td>\n",
       "      <td>40</td>\n",
       "      <td>0</td>\n",
       "      <td>0</td>\n",
       "      <td>0</td>\n",
       "      <td>0</td>\n",
       "      <td>0</td>\n",
       "      <td>0</td>\n",
       "      <td>2</td>\n",
       "      <td>12</td>\n",
       "      <td>0</td>\n",
       "      <td>0</td>\n",
       "      <td>32</td>\n",
       "      <td>-1</td>\n",
       "      <td>1</td>\n",
       "      <td>20</td>\n",
       "      <td>0.0</td>\n",
       "      <td>0.0</td>\n",
       "      <td>0</td>\n",
       "      <td>0</td>\n",
       "      <td>0.0</td>\n",
       "      <td>0.0</td>\n",
       "      <td>0</td>\n",
       "      <td>0</td>\n",
       "      <td>BENIGN</td>\n",
       "      <td>Friday-WorkingHours-Afternoon-DDos.pcap_ISCX.csv</td>\n",
       "    </tr>\n",
       "  </tbody>\n",
       "</table>\n",
       "</div>"
      ],
      "text/plain": [
       "    Destination Port   Flow Duration   Total Fwd Packets  \\\n",
       "0              54865               3                   2   \n",
       "1              55054             109                   1   \n",
       "2              55055              52                   1   \n",
       "3              46236              34                   1   \n",
       "4              54863               3                   2   \n",
       "\n",
       "    Total Backward Packets  Total Length of Fwd Packets  \\\n",
       "0                        0                           12   \n",
       "1                        1                            6   \n",
       "2                        1                            6   \n",
       "3                        1                            6   \n",
       "4                        0                           12   \n",
       "\n",
       "    Total Length of Bwd Packets   Fwd Packet Length Max  \\\n",
       "0                             0                       6   \n",
       "1                             6                       6   \n",
       "2                             6                       6   \n",
       "3                             6                       6   \n",
       "4                             0                       6   \n",
       "\n",
       "    Fwd Packet Length Min   Fwd Packet Length Mean   Fwd Packet Length Std  \\\n",
       "0                       6                      6.0                     0.0   \n",
       "1                       6                      6.0                     0.0   \n",
       "2                       6                      6.0                     0.0   \n",
       "3                       6                      6.0                     0.0   \n",
       "4                       6                      6.0                     0.0   \n",
       "\n",
       "   Bwd Packet Length Max   Bwd Packet Length Min   Bwd Packet Length Mean  \\\n",
       "0                      0                       0                      0.0   \n",
       "1                      6                       6                      6.0   \n",
       "2                      6                       6                      6.0   \n",
       "3                      6                       6                      6.0   \n",
       "4                      0                       0                      0.0   \n",
       "\n",
       "    Bwd Packet Length Std  Flow Bytes/s   Flow Packets/s   Flow IAT Mean  \\\n",
       "0                     0.0  4.000000e+06     666666.66670             3.0   \n",
       "1                     0.0  1.100917e+05      18348.62385           109.0   \n",
       "2                     0.0  2.307692e+05      38461.53846            52.0   \n",
       "3                     0.0  3.529412e+05      58823.52941            34.0   \n",
       "4                     0.0  4.000000e+06     666666.66670             3.0   \n",
       "\n",
       "    Flow IAT Std   Flow IAT Max   Flow IAT Min  Fwd IAT Total   Fwd IAT Mean  \\\n",
       "0            0.0              3              3              3            3.0   \n",
       "1            0.0            109            109              0            0.0   \n",
       "2            0.0             52             52              0            0.0   \n",
       "3            0.0             34             34              0            0.0   \n",
       "4            0.0              3              3              3            3.0   \n",
       "\n",
       "    Fwd IAT Std   Fwd IAT Max   Fwd IAT Min  Bwd IAT Total   Bwd IAT Mean  \\\n",
       "0           0.0             3             3              0            0.0   \n",
       "1           0.0             0             0              0            0.0   \n",
       "2           0.0             0             0              0            0.0   \n",
       "3           0.0             0             0              0            0.0   \n",
       "4           0.0             3             3              0            0.0   \n",
       "\n",
       "    Bwd IAT Std   Bwd IAT Max   Bwd IAT Min  Fwd PSH Flags   Bwd PSH Flags  \\\n",
       "0           0.0             0             0              0               0   \n",
       "1           0.0             0             0              0               0   \n",
       "2           0.0             0             0              0               0   \n",
       "3           0.0             0             0              0               0   \n",
       "4           0.0             0             0              0               0   \n",
       "\n",
       "    Fwd URG Flags   Bwd URG Flags   Fwd Header Length   Bwd Header Length  \\\n",
       "0               0               0                  40                   0   \n",
       "1               0               0                  20                  20   \n",
       "2               0               0                  20                  20   \n",
       "3               0               0                  20                  20   \n",
       "4               0               0                  40                   0   \n",
       "\n",
       "   Fwd Packets/s   Bwd Packets/s   Min Packet Length   Max Packet Length  \\\n",
       "0  666666.666700        0.000000                   6                   6   \n",
       "1    9174.311927     9174.311927                   6                   6   \n",
       "2   19230.769230    19230.769230                   6                   6   \n",
       "3   29411.764710    29411.764710                   6                   6   \n",
       "4  666666.666700        0.000000                   6                   6   \n",
       "\n",
       "    Packet Length Mean   Packet Length Std   Packet Length Variance  \\\n",
       "0                  6.0                 0.0                      0.0   \n",
       "1                  6.0                 0.0                      0.0   \n",
       "2                  6.0                 0.0                      0.0   \n",
       "3                  6.0                 0.0                      0.0   \n",
       "4                  6.0                 0.0                      0.0   \n",
       "\n",
       "   FIN Flag Count   SYN Flag Count   RST Flag Count   PSH Flag Count  \\\n",
       "0               0                0                0                0   \n",
       "1               0                0                0                0   \n",
       "2               0                0                0                0   \n",
       "3               0                0                0                0   \n",
       "4               0                0                0                0   \n",
       "\n",
       "    ACK Flag Count   URG Flag Count   CWE Flag Count   ECE Flag Count  \\\n",
       "0                1                0                0                0   \n",
       "1                1                1                0                0   \n",
       "2                1                1                0                0   \n",
       "3                1                1                0                0   \n",
       "4                1                0                0                0   \n",
       "\n",
       "    Down/Up Ratio   Average Packet Size   Avg Fwd Segment Size  \\\n",
       "0               0                   9.0                    6.0   \n",
       "1               1                   9.0                    6.0   \n",
       "2               1                   9.0                    6.0   \n",
       "3               1                   9.0                    6.0   \n",
       "4               0                   9.0                    6.0   \n",
       "\n",
       "    Avg Bwd Segment Size   Fwd Header Length.1  Fwd Avg Bytes/Bulk  \\\n",
       "0                    0.0                    40                   0   \n",
       "1                    6.0                    20                   0   \n",
       "2                    6.0                    20                   0   \n",
       "3                    6.0                    20                   0   \n",
       "4                    0.0                    40                   0   \n",
       "\n",
       "    Fwd Avg Packets/Bulk   Fwd Avg Bulk Rate   Bwd Avg Bytes/Bulk  \\\n",
       "0                      0                   0                    0   \n",
       "1                      0                   0                    0   \n",
       "2                      0                   0                    0   \n",
       "3                      0                   0                    0   \n",
       "4                      0                   0                    0   \n",
       "\n",
       "    Bwd Avg Packets/Bulk  Bwd Avg Bulk Rate  Subflow Fwd Packets  \\\n",
       "0                      0                  0                    2   \n",
       "1                      0                  0                    1   \n",
       "2                      0                  0                    1   \n",
       "3                      0                  0                    1   \n",
       "4                      0                  0                    2   \n",
       "\n",
       "    Subflow Fwd Bytes   Subflow Bwd Packets   Subflow Bwd Bytes  \\\n",
       "0                  12                     0                   0   \n",
       "1                   6                     1                   6   \n",
       "2                   6                     1                   6   \n",
       "3                   6                     1                   6   \n",
       "4                  12                     0                   0   \n",
       "\n",
       "   Init_Win_bytes_forward   Init_Win_bytes_backward   act_data_pkt_fwd  \\\n",
       "0                      33                        -1                  1   \n",
       "1                      29                       256                  0   \n",
       "2                      29                       256                  0   \n",
       "3                      31                       329                  0   \n",
       "4                      32                        -1                  1   \n",
       "\n",
       "    min_seg_size_forward  Active Mean   Active Std   Active Max   Active Min  \\\n",
       "0                     20          0.0          0.0            0            0   \n",
       "1                     20          0.0          0.0            0            0   \n",
       "2                     20          0.0          0.0            0            0   \n",
       "3                     20          0.0          0.0            0            0   \n",
       "4                     20          0.0          0.0            0            0   \n",
       "\n",
       "   Idle Mean   Idle Std   Idle Max   Idle Min   Label  \\\n",
       "0        0.0        0.0          0          0  BENIGN   \n",
       "1        0.0        0.0          0          0  BENIGN   \n",
       "2        0.0        0.0          0          0  BENIGN   \n",
       "3        0.0        0.0          0          0  BENIGN   \n",
       "4        0.0        0.0          0          0  BENIGN   \n",
       "\n",
       "                                         __source__  \n",
       "0  Friday-WorkingHours-Afternoon-DDos.pcap_ISCX.csv  \n",
       "1  Friday-WorkingHours-Afternoon-DDos.pcap_ISCX.csv  \n",
       "2  Friday-WorkingHours-Afternoon-DDos.pcap_ISCX.csv  \n",
       "3  Friday-WorkingHours-Afternoon-DDos.pcap_ISCX.csv  \n",
       "4  Friday-WorkingHours-Afternoon-DDos.pcap_ISCX.csv  "
      ]
     },
     "execution_count": 29,
     "metadata": {},
     "output_type": "execute_result"
    }
   ],
   "source": [
    "# Load a sample of CSVs and combine\n",
    "csv_paths = sorted(glob.glob(os.path.join(DATA_DIR, '*.csv')))\n",
    "assert csv_paths, 'No CSVs found in datasets/'\n",
    "print('Found CSVs:', len(csv_paths))\n",
    "\n",
    "# Read a subset for speed\n",
    "frames = []\n",
    "for p in csv_paths:\n",
    "    try:\n",
    "        df = pd.read_csv(p, nrows=NROWS_PER_CSV)\n",
    "        df['__source__'] = os.path.basename(p)\n",
    "        frames.append(df)\n",
    "        print('Loaded', os.path.basename(p), df.shape)\n",
    "    except Exception as e:\n",
    "        print('Skip', os.path.basename(p), e)\n",
    "\n",
    "data = pd.concat(frames, ignore_index=True)\n",
    "print('Combined shape:', data.shape)\n",
    "\n",
    "data.head()\n"
   ]
  },
  {
   "cell_type": "code",
   "execution_count": 30,
   "id": "a9dbc2f2",
   "metadata": {},
   "outputs": [
    {
     "name": "stdout",
     "output_type": "stream",
     "text": [
      "Normalized column names (stripped whitespace).\n",
      "Missing ratio (top 20):\n",
      "Flow Bytes/s            0.000231\n",
      "Destination Port        0.000000\n",
      "Bwd Avg Packets/Bulk    0.000000\n",
      "Fwd Avg Bulk Rate       0.000000\n",
      "Fwd Avg Packets/Bulk    0.000000\n",
      "Fwd Avg Bytes/Bulk      0.000000\n",
      "Fwd Header Length.1     0.000000\n",
      "Avg Bwd Segment Size    0.000000\n",
      "Avg Fwd Segment Size    0.000000\n",
      "Average Packet Size     0.000000\n",
      "Down/Up Ratio           0.000000\n",
      "ECE Flag Count          0.000000\n",
      "CWE Flag Count          0.000000\n",
      "URG Flag Count          0.000000\n",
      "ACK Flag Count          0.000000\n",
      "PSH Flag Count          0.000000\n",
      "RST Flag Count          0.000000\n",
      "SYN Flag Count          0.000000\n",
      "FIN Flag Count          0.000000\n",
      "Bwd Avg Bytes/Bulk      0.000000\n",
      "dtype: float64\n"
     ]
    },
    {
     "name": "stderr",
     "output_type": "stream",
     "text": [
      "/var/folders/ld/jlrbt3yj2sb2pyt2qk83zf280000gn/T/ipykernel_19858/2347325962.py:19: UserWarning: Glyph 65533 (\\N{REPLACEMENT CHARACTER}) missing from font(s) Arial.\n",
      "  plt.tight_layout()\n",
      "/Users/nitishmalluru/HW/CSCE_482/.venv/lib/python3.11/site-packages/IPython/core/pylabtools.py:170: UserWarning: Glyph 65533 (\\N{REPLACEMENT CHARACTER}) missing from font(s) Arial.\n",
      "  fig.canvas.print_figure(bytes_io, **kw)\n"
     ]
    },
    {
     "data": {
      "image/png": "[encoded data removed]",
      "text/plain": [
       "<Figure size 800x400 with 1 Axes>"
      ]
     },
     "metadata": {},
     "output_type": "display_data"
    }
   ],
   "source": [
    "# Basic EDA: missing values and label distribution\n",
    "# Normalize column names first\n",
    "orig_cols = list(data.columns)\n",
    "data.columns = [str(c).strip() for c in data.columns]\n",
    "if orig_cols != list(data.columns):\n",
    "    print('Normalized column names (stripped whitespace).')\n",
    "\n",
    "missing = data.isna().mean().sort_values(ascending=False)\n",
    "print('Missing ratio (top 20):')\n",
    "print(missing.head(20))\n",
    "\n",
    "# Use explicit label if present, otherwise try to infer\n",
    "label_col = LABEL_COL if LABEL_COL in data.columns else None\n",
    "if label_col is None:\n",
    "    label_candidates = [c for c in data.columns if c.lower() in ['label','attack','class','target','outcome']]\n",
    "else:\n",
    "    label_candidates = [label_col]\n",
    "print('Label candidates:', label_candidates)\n",
    "\n",
    "if label_candidates:\n",
    "    label_col = label_candidates[0]\n",
    "    plt.figure(figsize=(8,4))\n",
    "    sns.countplot(data=data, x=label_col)\n",
    "    plt.title(f'Label distribution: {label_col}')\n",
    "    plt.xticks(rotation=45, ha='right')\n",
    "    plt.tight_layout()\n",
    "    plt.show()\n",
    "else:\n",
    "    print('No obvious label column found.')\n"
   ]
  },
  {
   "cell_type": "code",
   "execution_count": 31,
   "id": "3b256997",
   "metadata": {},
   "outputs": [
    {
     "name": "stdout",
     "output_type": "stream",
     "text": [
      "Numeric features: 78\n",
      "X shape: (800000, 78) num_classes: 12\n"
     ]
    },
    {
     "data": {
      "image/png": "[encoded data removed]",
      "text/plain": [
       "<Figure size 1000x800 with 1 Axes>"
      ]
     },
     "metadata": {},
     "output_type": "display_data"
    }
   ],
   "source": [
    "# Feature selection: numeric columns only\n",
    "num_cols = [c for c in data.columns if np.issubdtype(data[c].dtype, np.number)]\n",
    "print('Numeric features:', len(num_cols))\n",
    "\n",
    "# Drop columns with too many missing values\n",
    "keep_cols = [c for c in num_cols if data[c].isna().mean() < 0.2]\n",
    "X = data[keep_cols].fillna(0.0).astype(np.float32)\n",
    "\n",
    "# Build supervised targets from explicit label\n",
    "y_categorical = data[LABEL_COL].astype('category')\n",
    "y = y_categorical.cat.codes.values.astype(np.int64)\n",
    "num_classes = int(y_categorical.cat.categories.size)\n",
    "\n",
    "print('X shape:', X.shape, 'num_classes:', num_classes)\n",
    "\n",
    "# Quick correlation heatmap on a small subset\n",
    "corr_sample = X.sample(min(len(X), 5000), random_state=42)\n",
    "plt.figure(figsize=(10,8))\n",
    "sns.heatmap(corr_sample.corr().abs().clip(0,1), cmap='magma', cbar=False)\n",
    "plt.title('Feature correlation (abs) - sample')\n",
    "plt.tight_layout()\n",
    "plt.show()\n"
   ]
  },
  {
   "cell_type": "code",
   "execution_count": 32,
   "id": "eaca2cc3",
   "metadata": {},
   "outputs": [
    {
     "name": "stdout",
     "output_type": "stream",
     "text": [
      "MLP(\n",
      "  (net): Sequential(\n",
      "    (0): Linear(in_features=78, out_features=156, bias=True)\n",
      "    (1): ReLU()\n",
      "    (2): BatchNorm1d(156, eps=1e-05, momentum=0.1, affine=True, track_running_stats=True)\n",
      "    (3): Linear(in_features=156, out_features=156, bias=True)\n",
      "    (4): ReLU()\n",
      "    (5): BatchNorm1d(156, eps=1e-05, momentum=0.1, affine=True, track_running_stats=True)\n",
      "    (6): Linear(in_features=156, out_features=12, bias=True)\n",
      "  )\n",
      ")\n",
      "Using device: mps\n"
     ]
    }
   ],
   "source": [
    "# Minimal PyTorch dataset and model\n",
    "from torch.utils.data import TensorDataset, DataLoader, random_split\n",
    "import torch.nn as nn\n",
    "import torch.optim as optim\n",
    "\n",
    "features = torch.from_numpy(X.values)\n",
    "targets = torch.from_numpy(y)\n",
    "dataset = TensorDataset(features, targets)\n",
    "\n",
    "val_size = int(0.2 * len(dataset))\n",
    "train_size = len(dataset) - val_size\n",
    "train_ds, val_ds = random_split(dataset, [train_size, val_size], generator=torch.Generator().manual_seed(42))\n",
    "\n",
    "train_dl = DataLoader(train_ds, batch_size=BATCH_SIZE, shuffle=True)\n",
    "val_dl = DataLoader(val_ds, batch_size=BATCH_SIZE)\n",
    "\n",
    "class MLP(nn.Module):\n",
    "    def __init__(self, in_dim, num_classes):\n",
    "        super().__init__()\n",
    "        hidden = max(32, min(512, in_dim * 2))\n",
    "        self.net = nn.Sequential(\n",
    "            nn.Linear(in_dim, hidden),\n",
    "            nn.ReLU(),\n",
    "            nn.BatchNorm1d(hidden),\n",
    "            nn.Linear(hidden, hidden),\n",
    "            nn.ReLU(),\n",
    "            nn.BatchNorm1d(hidden),\n",
    "            nn.Linear(hidden, num_classes)\n",
    "        )\n",
    "    def forward(self, x):\n",
    "        return self.net(x)\n",
    "\n",
    "model = MLP(features.shape[1], num_classes)\n",
    "\n",
    "# Prefer MPS on Apple Silicon, then CUDA, then CPU\n",
    "if hasattr(torch.backends, 'mps') and torch.backends.mps.is_available():\n",
    "    device = torch.device('mps')\n",
    "elif torch.cuda.is_available():\n",
    "    device = torch.device('cuda')\n",
    "else:\n",
    "    device = torch.device('cpu')\n",
    "model.to(device)\n",
    "\n",
    "# Choose loss based on task shape\n",
    "if num_classes > 1:\n",
    "    criterion = nn.CrossEntropyLoss()\n",
    "else:\n",
    "    # For 1-class fallback, treat as regression placeholder\n",
    "    criterion = nn.MSELoss()\n",
    "optimizer = optim.Adam(model.parameters(), lr=1e-3)\n",
    "print(model)\n",
    "print('Using device:', device)\n"
   ]
  },
  {
   "cell_type": "code",
   "execution_count": 33,
   "id": "c6926da2",
   "metadata": {},
   "outputs": [
    {
     "name": "stderr",
     "output_type": "stream",
     "text": [
      "  6%|▌         | 61/1094 [00:00<00:12, 83.87it/s]"
     ]
    },
    {
     "name": "stdout",
     "output_type": "stream",
     "text": [
      "Epoch 1 | Batch 50 | loss=1.4701 | 102770.1 samples/s | seen=25600\n"
     ]
    },
    {
     "name": "stderr",
     "output_type": "stream",
     "text": [
      " 11%|█         | 118/1094 [00:01<00:09, 102.36it/s]"
     ]
    },
    {
     "name": "stdout",
     "output_type": "stream",
     "text": [
      "Epoch 1 | Batch 100 | loss=0.7502 | 134108.8 samples/s | seen=51200\n"
     ]
    },
    {
     "name": "stderr",
     "output_type": "stream",
     "text": [
      " 15%|█▍        | 164/1094 [00:01<00:09, 98.39it/s] "
     ]
    },
    {
     "name": "stdout",
     "output_type": "stream",
     "text": [
      "Epoch 1 | Batch 150 | loss=0.6787 | 131682.8 samples/s | seen=76800\n"
     ]
    },
    {
     "name": "stderr",
     "output_type": "stream",
     "text": [
      " 19%|█▉        | 212/1094 [00:02<00:07, 110.63it/s]"
     ]
    },
    {
     "name": "stdout",
     "output_type": "stream",
     "text": [
      "Epoch 1 | Batch 200 | loss=0.7208 | 119630.3 samples/s | seen=102400\n"
     ]
    },
    {
     "name": "stderr",
     "output_type": "stream",
     "text": [
      " 25%|██▍       | 273/1094 [00:02<00:07, 116.73it/s]"
     ]
    },
    {
     "name": "stdout",
     "output_type": "stream",
     "text": [
      "Epoch 1 | Batch 250 | loss=0.6403 | 116997.2 samples/s | seen=128000\n"
     ]
    },
    {
     "name": "stderr",
     "output_type": "stream",
     "text": [
      " 29%|██▉       | 321/1094 [00:03<00:06, 115.17it/s]"
     ]
    },
    {
     "name": "stdout",
     "output_type": "stream",
     "text": [
      "Epoch 1 | Batch 300 | loss=0.6257 | 121101.0 samples/s | seen=153600\n"
     ]
    },
    {
     "name": "stderr",
     "output_type": "stream",
     "text": [
      " 34%|███▎      | 367/1094 [00:03<00:07, 100.70it/s]"
     ]
    },
    {
     "name": "stdout",
     "output_type": "stream",
     "text": [
      "Epoch 1 | Batch 350 | loss=0.6904 | 121409.1 samples/s | seen=179200\n"
     ]
    },
    {
     "name": "stderr",
     "output_type": "stream",
     "text": [
      " 38%|███▊      | 416/1094 [00:04<00:06, 112.89it/s]"
     ]
    },
    {
     "name": "stdout",
     "output_type": "stream",
     "text": [
      "Epoch 1 | Batch 400 | loss=0.5804 | 122692.3 samples/s | seen=204800\n"
     ]
    },
    {
     "name": "stderr",
     "output_type": "stream",
     "text": [
      " 42%|████▏     | 464/1094 [00:04<00:05, 112.22it/s]"
     ]
    },
    {
     "name": "stdout",
     "output_type": "stream",
     "text": [
      "Epoch 1 | Batch 450 | loss=0.7172 | 113126.7 samples/s | seen=230400\n"
     ]
    },
    {
     "name": "stderr",
     "output_type": "stream",
     "text": [
      " 47%|████▋     | 511/1094 [00:04<00:05, 108.68it/s]"
     ]
    },
    {
     "name": "stdout",
     "output_type": "stream",
     "text": [
      "Epoch 1 | Batch 500 | loss=0.6322 | 121967.6 samples/s | seen=256000\n"
     ]
    },
    {
     "name": "stderr",
     "output_type": "stream",
     "text": [
      " 52%|█████▏    | 568/1094 [00:05<00:04, 108.83it/s]"
     ]
    },
    {
     "name": "stdout",
     "output_type": "stream",
     "text": [
      "Epoch 1 | Batch 550 | loss=0.6276 | 131852.6 samples/s | seen=281600\n"
     ]
    },
    {
     "name": "stderr",
     "output_type": "stream",
     "text": [
      " 56%|█████▌    | 613/1094 [00:05<00:05, 92.93it/s] "
     ]
    },
    {
     "name": "stdout",
     "output_type": "stream",
     "text": [
      "Epoch 1 | Batch 600 | loss=0.5983 | 105975.3 samples/s | seen=307200\n"
     ]
    },
    {
     "name": "stderr",
     "output_type": "stream",
     "text": [
      " 61%|██████    | 664/1094 [00:06<00:04, 86.16it/s]"
     ]
    },
    {
     "name": "stdout",
     "output_type": "stream",
     "text": [
      "Epoch 1 | Batch 650 | loss=0.6815 | 104236.7 samples/s | seen=332800\n"
     ]
    },
    {
     "name": "stderr",
     "output_type": "stream",
     "text": [
      " 65%|██████▍   | 707/1094 [00:06<00:04, 94.49it/s]"
     ]
    },
    {
     "name": "stdout",
     "output_type": "stream",
     "text": [
      "Epoch 1 | Batch 700 | loss=0.7107 | 82713.2 samples/s | seen=358400\n"
     ]
    },
    {
     "name": "stderr",
     "output_type": "stream",
     "text": [
      " 70%|██████▉   | 761/1094 [00:07<00:03, 96.33it/s]"
     ]
    },
    {
     "name": "stdout",
     "output_type": "stream",
     "text": [
      "Epoch 1 | Batch 750 | loss=0.5939 | 134528.8 samples/s | seen=384000\n"
     ]
    },
    {
     "name": "stderr",
     "output_type": "stream",
     "text": [
      " 75%|███████▍  | 820/1094 [00:08<00:02, 111.10it/s]"
     ]
    },
    {
     "name": "stdout",
     "output_type": "stream",
     "text": [
      "Epoch 1 | Batch 800 | loss=0.7517 | 125246.9 samples/s | seen=409600\n"
     ]
    },
    {
     "name": "stderr",
     "output_type": "stream",
     "text": [
      " 79%|███████▉  | 868/1094 [00:08<00:01, 113.16it/s]"
     ]
    },
    {
     "name": "stdout",
     "output_type": "stream",
     "text": [
      "Epoch 1 | Batch 850 | loss=0.5932 | 121066.8 samples/s | seen=435200\n"
     ]
    },
    {
     "name": "stderr",
     "output_type": "stream",
     "text": [
      " 84%|████████▎ | 915/1094 [00:08<00:01, 111.44it/s]"
     ]
    },
    {
     "name": "stdout",
     "output_type": "stream",
     "text": [
      "Epoch 1 | Batch 900 | loss=0.6366 | 135155.4 samples/s | seen=460800\n"
     ]
    },
    {
     "name": "stderr",
     "output_type": "stream",
     "text": [
      " 88%|████████▊ | 963/1094 [00:09<00:01, 103.13it/s]"
     ]
    },
    {
     "name": "stdout",
     "output_type": "stream",
     "text": [
      "Epoch 1 | Batch 950 | loss=0.6527 | 77835.6 samples/s | seen=486400\n"
     ]
    },
    {
     "name": "stderr",
     "output_type": "stream",
     "text": [
      " 93%|█████████▎| 1020/1094 [00:09<00:00, 106.97it/s]"
     ]
    },
    {
     "name": "stdout",
     "output_type": "stream",
     "text": [
      "Epoch 1 | Batch 1000 | loss=0.6503 | 121939.9 samples/s | seen=512000\n"
     ]
    },
    {
     "name": "stderr",
     "output_type": "stream",
     "text": [
      " 98%|█████████▊| 1067/1094 [00:10<00:00, 113.44it/s]"
     ]
    },
    {
     "name": "stdout",
     "output_type": "stream",
     "text": [
      "Epoch 1 | Batch 1050 | loss=0.6799 | 126114.8 samples/s | seen=537600\n"
     ]
    },
    {
     "name": "stderr",
     "output_type": "stream",
     "text": [
      "                                                    \r"
     ]
    },
    {
     "name": "stdout",
     "output_type": "stream",
     "text": [
      "Epoch 1 done in 13.0s | train_loss=0.7247 val_loss=0.6477 train_acc=0.8488 val_acc=0.8498\n"
     ]
    },
    {
     "name": "stderr",
     "output_type": "stream",
     "text": [
      "  6%|▌         | 67/1094 [00:00<00:09, 103.20it/s]"
     ]
    },
    {
     "name": "stdout",
     "output_type": "stream",
     "text": [
      "Epoch 2 | Batch 50 | loss=0.7408 | 118763.6 samples/s | seen=25600\n"
     ]
    },
    {
     "name": "stderr",
     "output_type": "stream",
     "text": [
      " 11%|█         | 116/1094 [00:01<00:08, 114.46it/s]"
     ]
    },
    {
     "name": "stdout",
     "output_type": "stream",
     "text": [
      "Epoch 2 | Batch 100 | loss=0.6884 | 126456.5 samples/s | seen=51200\n"
     ]
    },
    {
     "name": "stderr",
     "output_type": "stream",
     "text": [
      " 15%|█▌        | 165/1094 [00:01<00:09, 102.44it/s]"
     ]
    },
    {
     "name": "stdout",
     "output_type": "stream",
     "text": [
      "Epoch 2 | Batch 150 | loss=0.7149 | 119291.4 samples/s | seen=76800\n"
     ]
    },
    {
     "name": "stderr",
     "output_type": "stream",
     "text": [
      " 19%|█▉        | 211/1094 [00:02<00:08, 105.91it/s]"
     ]
    },
    {
     "name": "stdout",
     "output_type": "stream",
     "text": [
      "Epoch 2 | Batch 200 | loss=0.6170 | 107336.6 samples/s | seen=102400\n"
     ]
    },
    {
     "name": "stderr",
     "output_type": "stream",
     "text": [
      " 25%|██▍       | 271/1094 [00:02<00:07, 114.54it/s]"
     ]
    },
    {
     "name": "stdout",
     "output_type": "stream",
     "text": [
      "Epoch 2 | Batch 250 | loss=0.6313 | 143529.2 samples/s | seen=128000\n"
     ]
    },
    {
     "name": "stderr",
     "output_type": "stream",
     "text": [
      " 29%|██▉       | 319/1094 [00:02<00:06, 113.51it/s]"
     ]
    },
    {
     "name": "stdout",
     "output_type": "stream",
     "text": [
      "Epoch 2 | Batch 300 | loss=0.5793 | 119040.1 samples/s | seen=153600\n"
     ]
    },
    {
     "name": "stderr",
     "output_type": "stream",
     "text": [
      " 34%|███▎      | 367/1094 [00:03<00:07, 102.19it/s]"
     ]
    },
    {
     "name": "stdout",
     "output_type": "stream",
     "text": [
      "Epoch 2 | Batch 350 | loss=0.7293 | 134284.9 samples/s | seen=179200\n"
     ]
    },
    {
     "name": "stderr",
     "output_type": "stream",
     "text": [
      " 38%|███▊      | 412/1094 [00:03<00:06, 103.67it/s]"
     ]
    },
    {
     "name": "stdout",
     "output_type": "stream",
     "text": [
      "Epoch 2 | Batch 400 | loss=0.6302 | 127333.7 samples/s | seen=204800\n"
     ]
    },
    {
     "name": "stderr",
     "output_type": "stream",
     "text": [
      " 43%|████▎     | 472/1094 [00:04<00:05, 111.55it/s]"
     ]
    },
    {
     "name": "stdout",
     "output_type": "stream",
     "text": [
      "Epoch 2 | Batch 450 | loss=0.5292 | 129616.3 samples/s | seen=230400\n"
     ]
    },
    {
     "name": "stderr",
     "output_type": "stream",
     "text": [
      " 48%|████▊     | 521/1094 [00:04<00:05, 113.53it/s]"
     ]
    },
    {
     "name": "stdout",
     "output_type": "stream",
     "text": [
      "Epoch 2 | Batch 500 | loss=0.6206 | 128384.3 samples/s | seen=256000\n"
     ]
    },
    {
     "name": "stderr",
     "output_type": "stream",
     "text": [
      " 52%|█████▏    | 569/1094 [00:05<00:04, 109.61it/s]"
     ]
    },
    {
     "name": "stdout",
     "output_type": "stream",
     "text": [
      "Epoch 2 | Batch 550 | loss=0.6855 | 119404.2 samples/s | seen=281600\n"
     ]
    },
    {
     "name": "stderr",
     "output_type": "stream",
     "text": [
      " 55%|█████▌    | 605/1094 [00:05<00:04, 114.74it/s]"
     ]
    },
    {
     "name": "stdout",
     "output_type": "stream",
     "text": [
      "Epoch 2 | Batch 600 | loss=0.5732 | 133408.9 samples/s | seen=307200\n"
     ]
    },
    {
     "name": "stderr",
     "output_type": "stream",
     "text": [
      " 61%|██████    | 665/1094 [00:06<00:04, 107.15it/s]"
     ]
    },
    {
     "name": "stdout",
     "output_type": "stream",
     "text": [
      "Epoch 2 | Batch 650 | loss=0.5926 | 123703.0 samples/s | seen=332800\n"
     ]
    },
    {
     "name": "stderr",
     "output_type": "stream",
     "text": [
      " 66%|██████▌   | 721/1094 [00:06<00:03, 104.86it/s]"
     ]
    },
    {
     "name": "stdout",
     "output_type": "stream",
     "text": [
      "Epoch 2 | Batch 700 | loss=0.6837 | 115574.2 samples/s | seen=358400\n"
     ]
    },
    {
     "name": "stderr",
     "output_type": "stream",
     "text": [
      " 70%|███████   | 769/1094 [00:07<00:02, 112.88it/s]"
     ]
    },
    {
     "name": "stdout",
     "output_type": "stream",
     "text": [
      "Epoch 2 | Batch 750 | loss=0.5964 | 127971.1 samples/s | seen=384000\n"
     ]
    },
    {
     "name": "stderr",
     "output_type": "stream",
     "text": [
      " 75%|███████▍  | 817/1094 [00:07<00:02, 114.63it/s]"
     ]
    },
    {
     "name": "stdout",
     "output_type": "stream",
     "text": [
      "Epoch 2 | Batch 800 | loss=0.6962 | 121822.3 samples/s | seen=409600\n"
     ]
    },
    {
     "name": "stderr",
     "output_type": "stream",
     "text": [
      " 79%|███████▉  | 865/1094 [00:07<00:02, 114.00it/s]"
     ]
    },
    {
     "name": "stdout",
     "output_type": "stream",
     "text": [
      "Epoch 2 | Batch 850 | loss=0.5936 | 117618.8 samples/s | seen=435200\n"
     ]
    },
    {
     "name": "stderr",
     "output_type": "stream",
     "text": [
      " 83%|████████▎ | 913/1094 [00:08<00:01, 112.95it/s]"
     ]
    },
    {
     "name": "stdout",
     "output_type": "stream",
     "text": [
      "Epoch 2 | Batch 900 | loss=0.6731 | 125613.2 samples/s | seen=460800\n"
     ]
    },
    {
     "name": "stderr",
     "output_type": "stream",
     "text": [
      " 88%|████████▊ | 961/1094 [00:08<00:01, 113.13it/s]"
     ]
    },
    {
     "name": "stdout",
     "output_type": "stream",
     "text": [
      "Epoch 2 | Batch 950 | loss=0.6231 | 125429.8 samples/s | seen=486400\n"
     ]
    },
    {
     "name": "stderr",
     "output_type": "stream",
     "text": [
      " 93%|█████████▎| 1022/1094 [00:09<00:00, 111.27it/s]"
     ]
    },
    {
     "name": "stdout",
     "output_type": "stream",
     "text": [
      "Epoch 2 | Batch 1000 | loss=0.6197 | 112404.3 samples/s | seen=512000\n"
     ]
    },
    {
     "name": "stderr",
     "output_type": "stream",
     "text": [
      " 97%|█████████▋| 1066/1094 [00:09<00:00, 100.68it/s]"
     ]
    },
    {
     "name": "stdout",
     "output_type": "stream",
     "text": [
      "Epoch 2 | Batch 1050 | loss=0.5898 | 134697.6 samples/s | seen=537600\n"
     ]
    },
    {
     "name": "stderr",
     "output_type": "stream",
     "text": [
      "                                                    \r"
     ]
    },
    {
     "name": "stdout",
     "output_type": "stream",
     "text": [
      "Epoch 2 done in 11.7s | train_loss=0.6437 val_loss=0.6472 train_acc=0.8503 val_acc=0.8498\n"
     ]
    },
    {
     "name": "stderr",
     "output_type": "stream",
     "text": [
      "  6%|▌         | 68/1094 [00:00<00:09, 108.82it/s]"
     ]
    },
    {
     "name": "stdout",
     "output_type": "stream",
     "text": [
      "Epoch 3 | Batch 50 | loss=0.5306 | 115239.3 samples/s | seen=25600\n"
     ]
    },
    {
     "name": "stderr",
     "output_type": "stream",
     "text": [
      " 10%|█         | 111/1094 [00:01<00:10, 96.63it/s]"
     ]
    },
    {
     "name": "stdout",
     "output_type": "stream",
     "text": [
      "Epoch 3 | Batch 100 | loss=0.6269 | 109660.6 samples/s | seen=51200\n"
     ]
    },
    {
     "name": "stderr",
     "output_type": "stream",
     "text": [
      " 16%|█▌        | 170/1094 [00:01<00:09, 101.77it/s]"
     ]
    },
    {
     "name": "stdout",
     "output_type": "stream",
     "text": [
      "Epoch 3 | Batch 150 | loss=0.6036 | 62907.8 samples/s | seen=76800\n"
     ]
    },
    {
     "name": "stderr",
     "output_type": "stream",
     "text": [
      " 20%|█▉        | 218/1094 [00:02<00:07, 110.18it/s]"
     ]
    },
    {
     "name": "stdout",
     "output_type": "stream",
     "text": [
      "Epoch 3 | Batch 200 | loss=0.7014 | 137158.1 samples/s | seen=102400\n"
     ]
    },
    {
     "name": "stderr",
     "output_type": "stream",
     "text": [
      " 24%|██▍       | 267/1094 [00:02<00:07, 115.59it/s]"
     ]
    },
    {
     "name": "stdout",
     "output_type": "stream",
     "text": [
      "Epoch 3 | Batch 250 | loss=0.6327 | 125583.8 samples/s | seen=128000\n"
     ]
    },
    {
     "name": "stderr",
     "output_type": "stream",
     "text": [
      " 29%|██▉       | 316/1094 [00:02<00:06, 117.57it/s]"
     ]
    },
    {
     "name": "stdout",
     "output_type": "stream",
     "text": [
      "Epoch 3 | Batch 300 | loss=0.6825 | 137079.3 samples/s | seen=153600\n"
     ]
    },
    {
     "name": "stderr",
     "output_type": "stream",
     "text": [
      " 33%|███▎      | 364/1094 [00:03<00:06, 113.64it/s]"
     ]
    },
    {
     "name": "stdout",
     "output_type": "stream",
     "text": [
      "Epoch 3 | Batch 350 | loss=0.5978 | 138333.1 samples/s | seen=179200\n"
     ]
    },
    {
     "name": "stderr",
     "output_type": "stream",
     "text": [
      " 38%|███▊      | 412/1094 [00:03<00:05, 116.69it/s]"
     ]
    },
    {
     "name": "stdout",
     "output_type": "stream",
     "text": [
      "Epoch 3 | Batch 400 | loss=0.6925 | 106728.5 samples/s | seen=204800\n"
     ]
    },
    {
     "name": "stderr",
     "output_type": "stream",
     "text": [
      " 43%|████▎     | 472/1094 [00:04<00:05, 109.98it/s]"
     ]
    },
    {
     "name": "stdout",
     "output_type": "stream",
     "text": [
      "Epoch 3 | Batch 450 | loss=0.6155 | 103184.9 samples/s | seen=230400\n"
     ]
    },
    {
     "name": "stderr",
     "output_type": "stream",
     "text": [
      " 47%|████▋     | 519/1094 [00:04<00:05, 104.02it/s]"
     ]
    },
    {
     "name": "stdout",
     "output_type": "stream",
     "text": [
      "Epoch 3 | Batch 500 | loss=0.5697 | 145819.5 samples/s | seen=256000\n"
     ]
    },
    {
     "name": "stderr",
     "output_type": "stream",
     "text": [
      " 52%|█████▏    | 566/1094 [00:05<00:04, 108.88it/s]"
     ]
    },
    {
     "name": "stdout",
     "output_type": "stream",
     "text": [
      "Epoch 3 | Batch 550 | loss=0.6451 | 100274.7 samples/s | seen=281600\n"
     ]
    },
    {
     "name": "stderr",
     "output_type": "stream",
     "text": [
      " 56%|█████▌    | 615/1094 [00:05<00:04, 109.39it/s]"
     ]
    },
    {
     "name": "stdout",
     "output_type": "stream",
     "text": [
      "Epoch 3 | Batch 600 | loss=0.5829 | 98976.1 samples/s | seen=307200\n"
     ]
    },
    {
     "name": "stderr",
     "output_type": "stream",
     "text": [
      " 61%|██████    | 662/1094 [00:06<00:03, 109.27it/s]"
     ]
    },
    {
     "name": "stdout",
     "output_type": "stream",
     "text": [
      "Epoch 3 | Batch 650 | loss=0.5489 | 123667.4 samples/s | seen=332800\n"
     ]
    },
    {
     "name": "stderr",
     "output_type": "stream",
     "text": [
      " 66%|██████▌   | 722/1094 [00:06<00:03, 115.65it/s]"
     ]
    },
    {
     "name": "stdout",
     "output_type": "stream",
     "text": [
      "Epoch 3 | Batch 700 | loss=0.6901 | 106137.7 samples/s | seen=358400\n"
     ]
    },
    {
     "name": "stderr",
     "output_type": "stream",
     "text": [
      " 70%|███████   | 770/1094 [00:07<00:02, 111.87it/s]"
     ]
    },
    {
     "name": "stdout",
     "output_type": "stream",
     "text": [
      "Epoch 3 | Batch 750 | loss=0.6313 | 119797.1 samples/s | seen=384000\n"
     ]
    },
    {
     "name": "stderr",
     "output_type": "stream",
     "text": [
      " 75%|███████▍  | 820/1094 [00:07<00:02, 111.54it/s]"
     ]
    },
    {
     "name": "stdout",
     "output_type": "stream",
     "text": [
      "Epoch 3 | Batch 800 | loss=0.5738 | 125371.2 samples/s | seen=409600\n"
     ]
    },
    {
     "name": "stderr",
     "output_type": "stream",
     "text": [
      " 79%|███████▉  | 868/1094 [00:07<00:02, 112.93it/s]"
     ]
    },
    {
     "name": "stdout",
     "output_type": "stream",
     "text": [
      "Epoch 3 | Batch 850 | loss=0.6924 | 127182.9 samples/s | seen=435200\n"
     ]
    },
    {
     "name": "stderr",
     "output_type": "stream",
     "text": [
      " 84%|████████▎ | 916/1094 [00:08<00:01, 115.28it/s]"
     ]
    },
    {
     "name": "stdout",
     "output_type": "stream",
     "text": [
      "Epoch 3 | Batch 900 | loss=0.5497 | 128776.9 samples/s | seen=460800\n"
     ]
    },
    {
     "name": "stderr",
     "output_type": "stream",
     "text": [
      " 88%|████████▊ | 964/1094 [00:08<00:01, 92.85it/s] "
     ]
    },
    {
     "name": "stdout",
     "output_type": "stream",
     "text": [
      "Epoch 3 | Batch 950 | loss=0.6957 | 125981.7 samples/s | seen=486400\n"
     ]
    },
    {
     "name": "stderr",
     "output_type": "stream",
     "text": [
      " 94%|█████████▎| 1024/1094 [00:09<00:00, 110.59it/s]"
     ]
    },
    {
     "name": "stdout",
     "output_type": "stream",
     "text": [
      "Epoch 3 | Batch 1000 | loss=0.6049 | 110963.9 samples/s | seen=512000\n"
     ]
    },
    {
     "name": "stderr",
     "output_type": "stream",
     "text": [
      " 98%|█████████▊| 1072/1094 [00:09<00:00, 110.64it/s]"
     ]
    },
    {
     "name": "stdout",
     "output_type": "stream",
     "text": [
      "Epoch 3 | Batch 1050 | loss=0.6798 | 120692.6 samples/s | seen=537600\n"
     ]
    },
    {
     "name": "stderr",
     "output_type": "stream",
     "text": [
      "                                                    \r"
     ]
    },
    {
     "name": "stdout",
     "output_type": "stream",
     "text": [
      "Epoch 3 done in 11.5s | train_loss=0.6436 val_loss=0.6474 train_acc=0.8503 val_acc=0.8498\n"
     ]
    }
   ],
   "source": [
    "# Training loop (few epochs) with robust dtypes and tqdm fallback\n",
    "try:\n",
    "    from tqdm import tqdm  # avoids ipywidgets renderer\n",
    "except Exception:  # pragma: no cover\n",
    "    def tqdm(x, **kwargs):\n",
    "        return x\n",
    "\n",
    "def accuracy(logits, targets):\n",
    "    if logits.ndim == 1 or logits.shape[1] == 1:\n",
    "        return float('nan')\n",
    "    preds = logits.argmax(dim=1)\n",
    "    return (preds == targets).float().mean().item()\n",
    "\n",
    "def compute_loss(outputs, targets):\n",
    "    if num_classes > 1:\n",
    "        return criterion(outputs, targets.long())\n",
    "    else:\n",
    "        return criterion(outputs.squeeze().float(), targets.float())\n",
    "\n",
    "EPOCHS = EPOCHS  # from config\n",
    "import time\n",
    "\n",
    "for epoch in range(1, EPOCHS+1):\n",
    "    start_epoch = time.time()\n",
    "    model.train()\n",
    "    train_loss = 0.0\n",
    "    train_acc = 0.0\n",
    "    num_train = 0\n",
    "    for b_idx, (xb, yb) in enumerate(tqdm(train_dl, leave=False)):\n",
    "        if MAX_BATCHES and b_idx >= MAX_BATCHES:\n",
    "            break\n",
    "        t0 = time.time()\n",
    "        xb = xb.to(device).float()\n",
    "        yb = yb.to(device)\n",
    "        optimizer.zero_grad()\n",
    "        out = model(xb)\n",
    "        loss = compute_loss(out, yb)\n",
    "        loss.backward()\n",
    "        optimizer.step()\n",
    "        batch_time = time.time() - t0\n",
    "        num_train += xb.size(0)\n",
    "        train_loss += loss.item() * xb.size(0)\n",
    "        if num_classes > 1:\n",
    "            train_acc += accuracy(out, yb) * xb.size(0)\n",
    "        if (b_idx + 1) % LOG_INTERVAL == 0:\n",
    "            speed = xb.size(0) / batch_time if batch_time > 0 else float('inf')\n",
    "            print(f\"Epoch {epoch} | Batch {b_idx+1} | loss={loss.item():.4f} | {speed:.1f} samples/s | seen={num_train}\")\n",
    "    train_loss /= max(1, num_train)\n",
    "    train_acc = (train_acc / max(1, num_train)) if num_classes > 1 else float('nan')\n",
    "\n",
    "    model.eval()\n",
    "    val_loss = 0.0\n",
    "    val_acc = 0.0\n",
    "    num_val = 0\n",
    "    with torch.no_grad():\n",
    "        for b_idx, (xb, yb) in enumerate(val_dl):\n",
    "            if MAX_BATCHES and b_idx >= MAX_BATCHES:\n",
    "                break\n",
    "            xb = xb.to(device).float()\n",
    "            yb = yb.to(device)\n",
    "            out = model(xb)\n",
    "            loss = compute_loss(out, yb)\n",
    "            val_loss += loss.item() * xb.size(0)\n",
    "            num_val += xb.size(0)\n",
    "            if num_classes > 1:\n",
    "                val_acc += accuracy(out, yb) * xb.size(0)\n",
    "    val_loss /= max(1, num_val)\n",
    "    val_acc = (val_acc / max(1, num_val)) if num_classes > 1 else float('nan')\n",
    "\n",
    "    epoch_time = time.time() - start_epoch\n",
    "    print(f\"Epoch {epoch} done in {epoch_time:.1f}s | train_loss={train_loss:.4f} val_loss={val_loss:.4f} train_acc={train_acc:.4f} val_acc={val_acc:.4f}\")\n"
   ]
  },
  {
   "cell_type": "code",
   "execution_count": 34,
   "id": "7aad707c",
   "metadata": {},
   "outputs": [
    {
     "name": "stdout",
     "output_type": "stream",
     "text": [
      "Test: loss=0.6436 acc=0.8496\n"
     ]
    }
   ],
   "source": [
    "# Test evaluation\n",
    "model.eval()\n",
    "from math import isnan\n",
    "\n",
    "test_loss = 0.0\n",
    "test_acc = 0.0\n",
    "num_test = 0\n",
    "with torch.no_grad():\n",
    "    for b_idx, (xb, yb) in enumerate(test_dl):\n",
    "        if MAX_BATCHES and b_idx >= MAX_BATCHES:\n",
    "            break\n",
    "        xb = xb.to(device).float()\n",
    "        yb = yb.to(device)\n",
    "        out = model(xb)\n",
    "        loss = criterion(out, yb.long())\n",
    "        test_loss += loss.item() * xb.size(0)\n",
    "        num_test += xb.size(0)\n",
    "        if num_classes > 1:\n",
    "            test_acc += accuracy(out, yb) * xb.size(0)\n",
    "\n",
    "test_loss /= max(1, num_test)\n",
    "test_acc = (test_acc / max(1, num_test)) if num_classes > 1 else float('nan')\n",
    "\n",
    "print(f\"Test: loss={test_loss:.4f} acc={(test_acc if not isnan(test_acc) else float('nan')):.4f}\")\n"
   ]
  },
  {
   "cell_type": "code",
   "execution_count": 37,
   "id": "14eda52e",
   "metadata": {},
   "outputs": [
    {
     "data": {
      "image/png": "[encoded data removed]",
      "text/plain": [
       "<Figure size 1200x400 with 2 Axes>"
      ]
     },
     "metadata": {},
     "output_type": "display_data"
    },
    {
     "name": "stdout",
     "output_type": "stream",
     "text": [
      "Final metrics -> {'train_loss': 0.6435691924095154, 'val_loss': 0.6474304097175598, 'test_loss': 0.6436139105478923, 'train_acc': 0.8503178571428571, 'val_acc': 0.849775, 'test_acc': 0.8495583333333333}\n"
     ]
    }
   ],
   "source": [
    "# Train/Val/Test curves with proper labels\n",
    "fig, axes = plt.subplots(1, 2, figsize=(12,4))\n",
    "\n",
    "# Loss\n",
    "axes[0].plot(history['train_loss'], label='Train Loss')\n",
    "axes[0].plot(history['val_loss'], label='Val Loss')\n",
    "axes[0].axhline(test_loss, color='k', linestyle='--', label='Test Loss')\n",
    "axes[0].set_title('Loss (Train / Val / Test)')\n",
    "axes[0].set_xlabel('Epoch')\n",
    "axes[0].set_ylabel('Loss')\n",
    "axes[0].legend(loc='best')\n",
    "\n",
    "# Accuracy\n",
    "axes[1].plot(history['train_acc'], label='Train Acc')\n",
    "axes[1].plot(history['val_acc'], label='Val Acc')\n",
    "axes[1].axhline(test_acc, color='k', linestyle='--', label='Test Acc')\n",
    "axes[1].set_title('Accuracy (Train / Val / Test)')\n",
    "axes[1].set_xlabel('Epoch')\n",
    "axes[1].set_ylabel('Accuracy')\n",
    "axes[1].legend(loc='best')\n",
    "\n",
    "plt.tight_layout()\n",
    "plt.show()\n",
    "\n",
    "print('Final metrics ->', {\n",
    "    'train_loss': history['train_loss'][-1],\n",
    "    'val_loss': history['val_loss'][-1],\n",
    "    'test_loss': test_loss,\n",
    "    'train_acc': history['train_acc'][-1],\n",
    "    'val_acc': history['val_acc'][-1],\n",
    "    'test_acc': test_acc,\n",
    "})\n"
   ]
  }
 ],
 "metadata": {
  "kernelspec": {
   "display_name": ".venv",
   "language": "python",
   "name": "python3"
  },
  "language_info": {
   "codemirror_mode": {
    "name": "ipython",
    "version": 3
   },
   "file_extension": ".py",
   "mimetype": "text/x-python",
   "name": "python",
   "nbconvert_exporter": "python",
   "pygments_lexer": "ipython3",
   "version": "3.11.11"
  }
 },
 "nbformat": 4,
 "nbformat_minor": 5
}
